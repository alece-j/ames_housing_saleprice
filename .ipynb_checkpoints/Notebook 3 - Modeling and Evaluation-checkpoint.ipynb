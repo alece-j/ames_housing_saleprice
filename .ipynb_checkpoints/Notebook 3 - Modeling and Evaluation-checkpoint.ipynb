{
 "cells": [
  {
   "cell_type": "markdown",
   "metadata": {},
   "source": [
    "# Modeling and Evaluation"
   ]
  },
  {
   "cell_type": "markdown",
   "metadata": {},
   "source": [
    "**Introduction**\n",
    "\n",
    "In this notebook we develop four models for predicting SalePrice. The four models are: 1) Model 1: A simple linear regression; 2) Model 2: A linear regression with polynomial features to control for potential collinearity; 3) Model 3: A lasso regression model with an optimized alpha of ~210; 4) Model 4: A ridge regression model with an optimized alpha of ~65.\n",
    "\n",
    "Two feature sets have been chosen based on the correlation table in the previous EDA notebok and refined through significant trial and error. The first feature set (variable name: features) is a short set applied to the first linear regression models. The second feature set (variable name: features_l) is a longer set applied to the Lasso and Ridge data sets.\n",
    "\n",
    "Baseline figures have been estalished for each feature set. Evaluation of each model and comparison to baseline is provided in an evaluation section at the end of each model process. \n",
    "\n",
    "This notebook, and project, ends with a discussion about the findings from the modeling process and conclusions that are applicable to our clients (see Notebook 1 - Cleaning and EDA). We also give further steps that we would take to refine models and clean data in the future."
   ]
  },
  {
   "cell_type": "markdown",
   "metadata": {},
   "source": [
    "# Final Dataset Preparations and Setup"
   ]
  },
  {
   "cell_type": "markdown",
   "metadata": {},
   "source": [
    "### Imports and Reading in Data"
   ]
  },
  {
   "cell_type": "code",
   "execution_count": 1,
   "metadata": {},
   "outputs": [],
   "source": [
    "import pandas as pd\n",
    "import numpy as np\n",
    "import matplotlib.pyplot as plt\n",
    "import seaborn as sns\n",
    "%matplotlib inline\n",
    "\n",
    "from scipy import stats\n",
    "from sklearn.linear_model import LinearRegression, Ridge, RidgeCV, LassoCV, Lasso\n",
    "from sklearn.metrics import r2_score, mean_squared_error\n",
    "from sklearn import metrics\n",
    "from sklearn.model_selection import train_test_split, cross_val_score\n",
    "from sklearn.preprocessing import StandardScaler, PolynomialFeatures"
   ]
  },
  {
   "cell_type": "code",
   "execution_count": 2,
   "metadata": {},
   "outputs": [],
   "source": [
    "#Reading in cleaned data files.\n",
    "ctrain = pd.read_csv('./datasets/train_clean.csv')\n",
    "\n",
    "ctest = pd.read_csv('./datasets/test_clean.csv')"
   ]
  },
  {
   "cell_type": "code",
   "execution_count": 3,
   "metadata": {},
   "outputs": [
    {
     "data": {
      "text/html": [
       "<div>\n",
       "<style scoped>\n",
       "    .dataframe tbody tr th:only-of-type {\n",
       "        vertical-align: middle;\n",
       "    }\n",
       "\n",
       "    .dataframe tbody tr th {\n",
       "        vertical-align: top;\n",
       "    }\n",
       "\n",
       "    .dataframe thead th {\n",
       "        text-align: right;\n",
       "    }\n",
       "</style>\n",
       "<table border=\"1\" class=\"dataframe\">\n",
       "  <thead>\n",
       "    <tr style=\"text-align: right;\">\n",
       "      <th></th>\n",
       "      <th>Id</th>\n",
       "      <th>PID</th>\n",
       "      <th>MS SubClass</th>\n",
       "      <th>lot_frontage</th>\n",
       "      <th>lot_area</th>\n",
       "      <th>Street</th>\n",
       "      <th>Alley</th>\n",
       "      <th>Lot Shape</th>\n",
       "      <th>Overall Qual</th>\n",
       "      <th>Overall Cond</th>\n",
       "      <th>...</th>\n",
       "      <th>Bldg Type_2fmCon</th>\n",
       "      <th>Bldg Type_Duplex</th>\n",
       "      <th>Bldg Type_Twnhs</th>\n",
       "      <th>Bldg Type_TwnhsE</th>\n",
       "      <th>Roof Style_Gable</th>\n",
       "      <th>Roof Style_Gambrel</th>\n",
       "      <th>Roof Style_Hip</th>\n",
       "      <th>Roof Style_Mansard</th>\n",
       "      <th>Roof Style_Shed</th>\n",
       "      <th>Central Air_Y</th>\n",
       "    </tr>\n",
       "  </thead>\n",
       "  <tbody>\n",
       "    <tr>\n",
       "      <th>0</th>\n",
       "      <td>109</td>\n",
       "      <td>533352170</td>\n",
       "      <td>60</td>\n",
       "      <td>68.0</td>\n",
       "      <td>13517</td>\n",
       "      <td>Pave</td>\n",
       "      <td>None</td>\n",
       "      <td>IR1</td>\n",
       "      <td>6</td>\n",
       "      <td>8</td>\n",
       "      <td>...</td>\n",
       "      <td>0</td>\n",
       "      <td>0</td>\n",
       "      <td>0</td>\n",
       "      <td>0</td>\n",
       "      <td>1</td>\n",
       "      <td>0</td>\n",
       "      <td>0</td>\n",
       "      <td>0</td>\n",
       "      <td>0</td>\n",
       "      <td>1</td>\n",
       "    </tr>\n",
       "    <tr>\n",
       "      <th>1</th>\n",
       "      <td>544</td>\n",
       "      <td>531379050</td>\n",
       "      <td>60</td>\n",
       "      <td>43.0</td>\n",
       "      <td>11492</td>\n",
       "      <td>Pave</td>\n",
       "      <td>None</td>\n",
       "      <td>IR1</td>\n",
       "      <td>7</td>\n",
       "      <td>5</td>\n",
       "      <td>...</td>\n",
       "      <td>0</td>\n",
       "      <td>0</td>\n",
       "      <td>0</td>\n",
       "      <td>0</td>\n",
       "      <td>1</td>\n",
       "      <td>0</td>\n",
       "      <td>0</td>\n",
       "      <td>0</td>\n",
       "      <td>0</td>\n",
       "      <td>1</td>\n",
       "    </tr>\n",
       "    <tr>\n",
       "      <th>2</th>\n",
       "      <td>153</td>\n",
       "      <td>535304180</td>\n",
       "      <td>20</td>\n",
       "      <td>68.0</td>\n",
       "      <td>7922</td>\n",
       "      <td>Pave</td>\n",
       "      <td>None</td>\n",
       "      <td>Reg</td>\n",
       "      <td>5</td>\n",
       "      <td>7</td>\n",
       "      <td>...</td>\n",
       "      <td>0</td>\n",
       "      <td>0</td>\n",
       "      <td>0</td>\n",
       "      <td>0</td>\n",
       "      <td>1</td>\n",
       "      <td>0</td>\n",
       "      <td>0</td>\n",
       "      <td>0</td>\n",
       "      <td>0</td>\n",
       "      <td>1</td>\n",
       "    </tr>\n",
       "    <tr>\n",
       "      <th>3</th>\n",
       "      <td>318</td>\n",
       "      <td>916386060</td>\n",
       "      <td>60</td>\n",
       "      <td>73.0</td>\n",
       "      <td>9802</td>\n",
       "      <td>Pave</td>\n",
       "      <td>None</td>\n",
       "      <td>Reg</td>\n",
       "      <td>5</td>\n",
       "      <td>5</td>\n",
       "      <td>...</td>\n",
       "      <td>0</td>\n",
       "      <td>0</td>\n",
       "      <td>0</td>\n",
       "      <td>0</td>\n",
       "      <td>1</td>\n",
       "      <td>0</td>\n",
       "      <td>0</td>\n",
       "      <td>0</td>\n",
       "      <td>0</td>\n",
       "      <td>1</td>\n",
       "    </tr>\n",
       "    <tr>\n",
       "      <th>4</th>\n",
       "      <td>255</td>\n",
       "      <td>906425045</td>\n",
       "      <td>50</td>\n",
       "      <td>82.0</td>\n",
       "      <td>14235</td>\n",
       "      <td>Pave</td>\n",
       "      <td>None</td>\n",
       "      <td>IR1</td>\n",
       "      <td>6</td>\n",
       "      <td>8</td>\n",
       "      <td>...</td>\n",
       "      <td>0</td>\n",
       "      <td>0</td>\n",
       "      <td>0</td>\n",
       "      <td>0</td>\n",
       "      <td>1</td>\n",
       "      <td>0</td>\n",
       "      <td>0</td>\n",
       "      <td>0</td>\n",
       "      <td>0</td>\n",
       "      <td>1</td>\n",
       "    </tr>\n",
       "  </tbody>\n",
       "</table>\n",
       "<p>5 rows × 118 columns</p>\n",
       "</div>"
      ],
      "text/plain": [
       "    Id        PID  MS SubClass  lot_frontage  lot_area Street Alley Lot Shape  \\\n",
       "0  109  533352170           60          68.0     13517   Pave  None       IR1   \n",
       "1  544  531379050           60          43.0     11492   Pave  None       IR1   \n",
       "2  153  535304180           20          68.0      7922   Pave  None       Reg   \n",
       "3  318  916386060           60          73.0      9802   Pave  None       Reg   \n",
       "4  255  906425045           50          82.0     14235   Pave  None       IR1   \n",
       "\n",
       "   Overall Qual  Overall Cond  ... Bldg Type_2fmCon Bldg Type_Duplex  \\\n",
       "0             6             8  ...                0                0   \n",
       "1             7             5  ...                0                0   \n",
       "2             5             7  ...                0                0   \n",
       "3             5             5  ...                0                0   \n",
       "4             6             8  ...                0                0   \n",
       "\n",
       "   Bldg Type_Twnhs  Bldg Type_TwnhsE  Roof Style_Gable Roof Style_Gambrel  \\\n",
       "0                0                 0                 1                  0   \n",
       "1                0                 0                 1                  0   \n",
       "2                0                 0                 1                  0   \n",
       "3                0                 0                 1                  0   \n",
       "4                0                 0                 1                  0   \n",
       "\n",
       "   Roof Style_Hip  Roof Style_Mansard Roof Style_Shed Central Air_Y  \n",
       "0               0                   0               0             1  \n",
       "1               0                   0               0             1  \n",
       "2               0                   0               0             1  \n",
       "3               0                   0               0             1  \n",
       "4               0                   0               0             1  \n",
       "\n",
       "[5 rows x 118 columns]"
      ]
     },
     "execution_count": 3,
     "metadata": {},
     "output_type": "execute_result"
    }
   ],
   "source": [
    "ctrain.head()"
   ]
  },
  {
   "cell_type": "code",
   "execution_count": 4,
   "metadata": {},
   "outputs": [
    {
     "data": {
      "text/html": [
       "<div>\n",
       "<style scoped>\n",
       "    .dataframe tbody tr th:only-of-type {\n",
       "        vertical-align: middle;\n",
       "    }\n",
       "\n",
       "    .dataframe tbody tr th {\n",
       "        vertical-align: top;\n",
       "    }\n",
       "\n",
       "    .dataframe thead th {\n",
       "        text-align: right;\n",
       "    }\n",
       "</style>\n",
       "<table border=\"1\" class=\"dataframe\">\n",
       "  <thead>\n",
       "    <tr style=\"text-align: right;\">\n",
       "      <th></th>\n",
       "      <th>Id</th>\n",
       "      <th>PID</th>\n",
       "      <th>MS SubClass</th>\n",
       "      <th>lot_frontage</th>\n",
       "      <th>lot_area</th>\n",
       "      <th>Street</th>\n",
       "      <th>Alley</th>\n",
       "      <th>Lot Shape</th>\n",
       "      <th>Overall Qual</th>\n",
       "      <th>Overall Cond</th>\n",
       "      <th>...</th>\n",
       "      <th>Bldg Type_2fmCon</th>\n",
       "      <th>Bldg Type_Duplex</th>\n",
       "      <th>Bldg Type_Twnhs</th>\n",
       "      <th>Bldg Type_TwnhsE</th>\n",
       "      <th>Roof Style_Gable</th>\n",
       "      <th>Roof Style_Gambrel</th>\n",
       "      <th>Roof Style_Hip</th>\n",
       "      <th>Roof Style_Mansard</th>\n",
       "      <th>Roof Style_Shed</th>\n",
       "      <th>Central Air_Y</th>\n",
       "    </tr>\n",
       "  </thead>\n",
       "  <tbody>\n",
       "    <tr>\n",
       "      <th>0</th>\n",
       "      <td>2658</td>\n",
       "      <td>902301120</td>\n",
       "      <td>190</td>\n",
       "      <td>69.0</td>\n",
       "      <td>9142</td>\n",
       "      <td>Pave</td>\n",
       "      <td>Grvl</td>\n",
       "      <td>Reg</td>\n",
       "      <td>6</td>\n",
       "      <td>8</td>\n",
       "      <td>...</td>\n",
       "      <td>1</td>\n",
       "      <td>0</td>\n",
       "      <td>0</td>\n",
       "      <td>0</td>\n",
       "      <td>1</td>\n",
       "      <td>0</td>\n",
       "      <td>0</td>\n",
       "      <td>0</td>\n",
       "      <td>0</td>\n",
       "      <td>0</td>\n",
       "    </tr>\n",
       "    <tr>\n",
       "      <th>1</th>\n",
       "      <td>2718</td>\n",
       "      <td>905108090</td>\n",
       "      <td>90</td>\n",
       "      <td>68.0</td>\n",
       "      <td>9662</td>\n",
       "      <td>Pave</td>\n",
       "      <td>None</td>\n",
       "      <td>IR1</td>\n",
       "      <td>5</td>\n",
       "      <td>4</td>\n",
       "      <td>...</td>\n",
       "      <td>0</td>\n",
       "      <td>1</td>\n",
       "      <td>0</td>\n",
       "      <td>0</td>\n",
       "      <td>1</td>\n",
       "      <td>0</td>\n",
       "      <td>0</td>\n",
       "      <td>0</td>\n",
       "      <td>0</td>\n",
       "      <td>1</td>\n",
       "    </tr>\n",
       "    <tr>\n",
       "      <th>2</th>\n",
       "      <td>2414</td>\n",
       "      <td>528218130</td>\n",
       "      <td>60</td>\n",
       "      <td>58.0</td>\n",
       "      <td>17104</td>\n",
       "      <td>Pave</td>\n",
       "      <td>None</td>\n",
       "      <td>IR1</td>\n",
       "      <td>7</td>\n",
       "      <td>5</td>\n",
       "      <td>...</td>\n",
       "      <td>0</td>\n",
       "      <td>0</td>\n",
       "      <td>0</td>\n",
       "      <td>0</td>\n",
       "      <td>1</td>\n",
       "      <td>0</td>\n",
       "      <td>0</td>\n",
       "      <td>0</td>\n",
       "      <td>0</td>\n",
       "      <td>1</td>\n",
       "    </tr>\n",
       "    <tr>\n",
       "      <th>3</th>\n",
       "      <td>1989</td>\n",
       "      <td>902207150</td>\n",
       "      <td>30</td>\n",
       "      <td>60.0</td>\n",
       "      <td>8520</td>\n",
       "      <td>Pave</td>\n",
       "      <td>None</td>\n",
       "      <td>Reg</td>\n",
       "      <td>5</td>\n",
       "      <td>6</td>\n",
       "      <td>...</td>\n",
       "      <td>0</td>\n",
       "      <td>0</td>\n",
       "      <td>0</td>\n",
       "      <td>0</td>\n",
       "      <td>1</td>\n",
       "      <td>0</td>\n",
       "      <td>0</td>\n",
       "      <td>0</td>\n",
       "      <td>0</td>\n",
       "      <td>1</td>\n",
       "    </tr>\n",
       "    <tr>\n",
       "      <th>4</th>\n",
       "      <td>625</td>\n",
       "      <td>535105100</td>\n",
       "      <td>20</td>\n",
       "      <td>68.0</td>\n",
       "      <td>9500</td>\n",
       "      <td>Pave</td>\n",
       "      <td>None</td>\n",
       "      <td>IR1</td>\n",
       "      <td>6</td>\n",
       "      <td>5</td>\n",
       "      <td>...</td>\n",
       "      <td>0</td>\n",
       "      <td>0</td>\n",
       "      <td>0</td>\n",
       "      <td>0</td>\n",
       "      <td>1</td>\n",
       "      <td>0</td>\n",
       "      <td>0</td>\n",
       "      <td>0</td>\n",
       "      <td>0</td>\n",
       "      <td>1</td>\n",
       "    </tr>\n",
       "  </tbody>\n",
       "</table>\n",
       "<p>5 rows × 114 columns</p>\n",
       "</div>"
      ],
      "text/plain": [
       "     Id        PID  MS SubClass  lot_frontage  lot_area Street Alley  \\\n",
       "0  2658  902301120          190          69.0      9142   Pave  Grvl   \n",
       "1  2718  905108090           90          68.0      9662   Pave  None   \n",
       "2  2414  528218130           60          58.0     17104   Pave  None   \n",
       "3  1989  902207150           30          60.0      8520   Pave  None   \n",
       "4   625  535105100           20          68.0      9500   Pave  None   \n",
       "\n",
       "  Lot Shape  Overall Qual  Overall Cond  ... Bldg Type_2fmCon  \\\n",
       "0       Reg             6             8  ...                1   \n",
       "1       IR1             5             4  ...                0   \n",
       "2       IR1             7             5  ...                0   \n",
       "3       Reg             5             6  ...                0   \n",
       "4       IR1             6             5  ...                0   \n",
       "\n",
       "  Bldg Type_Duplex  Bldg Type_Twnhs  Bldg Type_TwnhsE  Roof Style_Gable  \\\n",
       "0                0                0                 0                 1   \n",
       "1                1                0                 0                 1   \n",
       "2                0                0                 0                 1   \n",
       "3                0                0                 0                 1   \n",
       "4                0                0                 0                 1   \n",
       "\n",
       "  Roof Style_Gambrel  Roof Style_Hip  Roof Style_Mansard Roof Style_Shed  \\\n",
       "0                  0               0                   0               0   \n",
       "1                  0               0                   0               0   \n",
       "2                  0               0                   0               0   \n",
       "3                  0               0                   0               0   \n",
       "4                  0               0                   0               0   \n",
       "\n",
       "  Central Air_Y  \n",
       "0             0  \n",
       "1             1  \n",
       "2             1  \n",
       "3             1  \n",
       "4             1  \n",
       "\n",
       "[5 rows x 114 columns]"
      ]
     },
     "execution_count": 4,
     "metadata": {},
     "output_type": "execute_result"
    }
   ],
   "source": [
    "ctest.head()"
   ]
  },
  {
   "cell_type": "markdown",
   "metadata": {},
   "source": [
    "### Dropping incongruent columns"
   ]
  },
  {
   "cell_type": "code",
   "execution_count": 5,
   "metadata": {},
   "outputs": [],
   "source": [
    "## Check for missing columns between the data sets help fromAlanna and chat with Andy as well as https://stackoverflow.com/questions/46335121/add-missing-columns-to-the-dataframe"
   ]
  },
  {
   "cell_type": "code",
   "execution_count": 6,
   "metadata": {},
   "outputs": [
    {
     "data": {
      "text/plain": [
       "(878, 114)"
      ]
     },
     "execution_count": 6,
     "metadata": {},
     "output_type": "execute_result"
    }
   ],
   "source": [
    "ctest.shape"
   ]
  },
  {
   "cell_type": "code",
   "execution_count": 7,
   "metadata": {},
   "outputs": [
    {
     "data": {
      "text/plain": [
       "{'MS Zoning_C (all)',\n",
       " 'Neighborhood_GrnHill',\n",
       " 'Neighborhood_Landmrk',\n",
       " 'SalePrice'}"
      ]
     },
     "execution_count": 7,
     "metadata": {},
     "output_type": "execute_result"
    }
   ],
   "source": [
    "## Check for missing columns between the data sets help fromAlanna and chat with Andy as well as https://stackoverflow.com/questions/46335121/add-missing-columns-to-the-dataframe\n",
    "missing = set(ctrain.columns) - set(ctest.columns)\n",
    "missing"
   ]
  },
  {
   "cell_type": "code",
   "execution_count": 8,
   "metadata": {},
   "outputs": [],
   "source": [
    "#Dropping columns that are not in test from train.\n",
    "ctrain.drop(['MS Zoning_C (all)', 'Neighborhood_GrnHill', 'Neighborhood_Landmrk'], axis=1, inplace=True)"
   ]
  },
  {
   "cell_type": "code",
   "execution_count": 9,
   "metadata": {},
   "outputs": [
    {
     "data": {
      "text/plain": [
       "(2026, 115)"
      ]
     },
     "execution_count": 9,
     "metadata": {},
     "output_type": "execute_result"
    }
   ],
   "source": [
    "ctrain.shape"
   ]
  },
  {
   "cell_type": "markdown",
   "metadata": {},
   "source": [
    "# Model 1: Simple Linear Regression Model"
   ]
  },
  {
   "cell_type": "markdown",
   "metadata": {},
   "source": [
    "### Establishing features, variables and train/test"
   ]
  },
  {
   "cell_type": "code",
   "execution_count": null,
   "metadata": {},
   "outputs": [],
   "source": []
  },
  {
   "cell_type": "code",
   "execution_count": 10,
   "metadata": {},
   "outputs": [],
   "source": [
    "# Features list\n",
    "features = ['Overall Qual',\n",
    "            'gr_liv_area', \n",
    "            'Exter Qual',\n",
    "            'Kitchen Qual',\n",
    "            'Total Bsmt SF', \n",
    "            'Garage Area', \n",
    "            'Fireplace Qu',\n",
    "           'Mas Vnr Area',\n",
    "           'Heating QC',\n",
    "           'Neighborhood_NridgHt',\n",
    "           'Central Air_Y',\n",
    "           'Neighborhood_NoRidge',\n",
    "           'Neighborhood_StoneBr',\n",
    "           'MS Zoning_RL']"
   ]
  },
  {
   "cell_type": "code",
   "execution_count": 11,
   "metadata": {},
   "outputs": [],
   "source": [
    "#List variables\n",
    "X = ctrain[features]\n",
    "y = ctrain['SalePrice']\n",
    "\n",
    "X_train, X_test, y_train, y_test = train_test_split(X, y, random_state = 42)"
   ]
  },
  {
   "cell_type": "markdown",
   "metadata": {},
   "source": [
    "### Baseline for Lin Reg"
   ]
  },
  {
   "cell_type": "markdown",
   "metadata": {},
   "source": [
    "As expected we see an R2 of basically 0 because predictions are based off the mean which has no ability to explain variance in the data. \n",
    "\n",
    "Baseline RMSE of is a useful benchmark against which we can compare the RMSE of the two linear regression models."
   ]
  },
  {
   "cell_type": "code",
   "execution_count": 12,
   "metadata": {},
   "outputs": [],
   "source": [
    "### Mean of y_test\n",
    "y_base = y_test.mean()\n",
    "\n",
    "### Predictions based on that mean\n",
    "y_base_preds = [y_base for row in y]"
   ]
  },
  {
   "cell_type": "code",
   "execution_count": 13,
   "metadata": {},
   "outputs": [
    {
     "name": "stdout",
     "output_type": "stream",
     "text": [
      "Baseline R2: -0.0013317025984138642\n",
      "Baseline Rmse: 78296.82887296818\n"
     ]
    }
   ],
   "source": [
    "print(f'Baseline R2: {r2_score(y, y_base_preds)}')\n",
    "print(f'Baseline Rmse: {mean_squared_error(y, y_base_preds, squared = False)}')"
   ]
  },
  {
   "cell_type": "code",
   "execution_count": null,
   "metadata": {},
   "outputs": [],
   "source": []
  },
  {
   "cell_type": "markdown",
   "metadata": {},
   "source": [
    "#### Lin Reg Model"
   ]
  },
  {
   "cell_type": "code",
   "execution_count": 14,
   "metadata": {},
   "outputs": [],
   "source": [
    "#Instantiate Model\n",
    "ln = LinearRegression()\n",
    "\n",
    "#Model fit\n",
    "ln.fit(X_train,y_train)\n",
    "\n",
    "#Make preds\n",
    "ln_preds_train = ln.predict(X_train)\n",
    "ln_preds_test = ln.predict(X_test)"
   ]
  },
  {
   "cell_type": "markdown",
   "metadata": {},
   "source": [
    "#### Lin Reg R2"
   ]
  },
  {
   "cell_type": "code",
   "execution_count": 15,
   "metadata": {},
   "outputs": [
    {
     "name": "stdout",
     "output_type": "stream",
     "text": [
      "Training R2: 0.8686063194638227\n",
      "Testing R2: 0.8514119728672772\n",
      "Cross Val Score: 0.8642912547347805\n"
     ]
    }
   ],
   "source": [
    "print(f'Training R2: {ln.score(X_train, y_train)}')\n",
    "print(f'Testing R2: {ln.score(X_test, y_test)}')\n",
    "print(f'Cross Val Score: {cross_val_score(ln, X_train, y_train, cv=5).mean()}')"
   ]
  },
  {
   "cell_type": "markdown",
   "metadata": {},
   "source": [
    "#### Linear Reg RMSE"
   ]
  },
  {
   "cell_type": "code",
   "execution_count": 16,
   "metadata": {},
   "outputs": [
    {
     "name": "stdout",
     "output_type": "stream",
     "text": [
      "Training MSE: 28388.743129034465\n",
      "Testing MSE: 30050.019938988746\n"
     ]
    }
   ],
   "source": [
    "print(f'Training MSE: {mean_squared_error(y_train, ln_preds_train, squared = False)}')\n",
    "print(f'Testing MSE: {mean_squared_error(y_test, ln_preds_test, squared = False)}')"
   ]
  },
  {
   "cell_type": "markdown",
   "metadata": {},
   "source": [
    "#### Lin Reg for Kaggle"
   ]
  },
  {
   "cell_type": "code",
   "execution_count": 17,
   "metadata": {},
   "outputs": [],
   "source": [
    "#Defining x\n",
    "# X_ctest = ctest[features]\n",
    "\n",
    "#Predicting model on test\n",
    "# ln_preds_ctest = ln.predict(X_ctest)\n",
    "\n",
    "#Fitting ID and Predicted SalePrice\n",
    "# kgl_one = pd.DataFrame(ctest['Id'])\n",
    "# kgl_one['SalePrice'] = ln_preds_ctest\n",
    "\n",
    "#Exporting\n",
    "# kgl_one.to_csv('./datasets/kgl_ln_one.csv', index=False)"
   ]
  },
  {
   "cell_type": "markdown",
   "metadata": {},
   "source": [
    "## Evaluating the Lin Reg Model"
   ]
  },
  {
   "cell_type": "code",
   "execution_count": 18,
   "metadata": {},
   "outputs": [
    {
     "data": {
      "text/html": [
       "<style  type=\"text/css\" >\n",
       "</style><table id=\"T_086c1b90_73ac_11eb_907b_acde48001122\" ><thead>    <tr>        <th class=\"col_heading level0 col0\" >Features</th>        <th class=\"col_heading level0 col1\" >Coefficients</th>    </tr></thead><tbody>\n",
       "                <tr>\n",
       "                                <td id=\"T_086c1b90_73ac_11eb_907b_acde48001122row0_col0\" class=\"data row0 col0\" >Neighborhood_StoneBr</td>\n",
       "                        <td id=\"T_086c1b90_73ac_11eb_907b_acde48001122row0_col1\" class=\"data row0 col1\" >44457.227407</td>\n",
       "            </tr>\n",
       "            <tr>\n",
       "                                <td id=\"T_086c1b90_73ac_11eb_907b_acde48001122row1_col0\" class=\"data row1 col0\" >Neighborhood_NridgHt</td>\n",
       "                        <td id=\"T_086c1b90_73ac_11eb_907b_acde48001122row1_col1\" class=\"data row1 col1\" >28379.369655</td>\n",
       "            </tr>\n",
       "            <tr>\n",
       "                                <td id=\"T_086c1b90_73ac_11eb_907b_acde48001122row2_col0\" class=\"data row2 col0\" >Neighborhood_NoRidge</td>\n",
       "                        <td id=\"T_086c1b90_73ac_11eb_907b_acde48001122row2_col1\" class=\"data row2 col1\" >23324.774226</td>\n",
       "            </tr>\n",
       "            <tr>\n",
       "                                <td id=\"T_086c1b90_73ac_11eb_907b_acde48001122row3_col0\" class=\"data row3 col0\" >Exter Qual</td>\n",
       "                        <td id=\"T_086c1b90_73ac_11eb_907b_acde48001122row3_col1\" class=\"data row3 col1\" >14566.075020</td>\n",
       "            </tr>\n",
       "            <tr>\n",
       "                                <td id=\"T_086c1b90_73ac_11eb_907b_acde48001122row4_col0\" class=\"data row4 col0\" >Kitchen Qual</td>\n",
       "                        <td id=\"T_086c1b90_73ac_11eb_907b_acde48001122row4_col1\" class=\"data row4 col1\" >13308.101193</td>\n",
       "            </tr>\n",
       "            <tr>\n",
       "                                <td id=\"T_086c1b90_73ac_11eb_907b_acde48001122row5_col0\" class=\"data row5 col0\" >Overall Qual</td>\n",
       "                        <td id=\"T_086c1b90_73ac_11eb_907b_acde48001122row5_col1\" class=\"data row5 col1\" >10313.786241</td>\n",
       "            </tr>\n",
       "            <tr>\n",
       "                                <td id=\"T_086c1b90_73ac_11eb_907b_acde48001122row6_col0\" class=\"data row6 col0\" >MS Zoning_RL</td>\n",
       "                        <td id=\"T_086c1b90_73ac_11eb_907b_acde48001122row6_col1\" class=\"data row6 col1\" >8852.892174</td>\n",
       "            </tr>\n",
       "            <tr>\n",
       "                                <td id=\"T_086c1b90_73ac_11eb_907b_acde48001122row7_col0\" class=\"data row7 col0\" >Central Air_Y</td>\n",
       "                        <td id=\"T_086c1b90_73ac_11eb_907b_acde48001122row7_col1\" class=\"data row7 col1\" >3019.582074</td>\n",
       "            </tr>\n",
       "            <tr>\n",
       "                                <td id=\"T_086c1b90_73ac_11eb_907b_acde48001122row8_col0\" class=\"data row8 col0\" >Heating QC</td>\n",
       "                        <td id=\"T_086c1b90_73ac_11eb_907b_acde48001122row8_col1\" class=\"data row8 col1\" >2918.766749</td>\n",
       "            </tr>\n",
       "            <tr>\n",
       "                                <td id=\"T_086c1b90_73ac_11eb_907b_acde48001122row9_col0\" class=\"data row9 col0\" >Fireplace Qu</td>\n",
       "                        <td id=\"T_086c1b90_73ac_11eb_907b_acde48001122row9_col1\" class=\"data row9 col1\" >2704.331520</td>\n",
       "            </tr>\n",
       "            <tr>\n",
       "                                <td id=\"T_086c1b90_73ac_11eb_907b_acde48001122row10_col0\" class=\"data row10 col0\" >gr_liv_area</td>\n",
       "                        <td id=\"T_086c1b90_73ac_11eb_907b_acde48001122row10_col1\" class=\"data row10 col1\" >45.090380</td>\n",
       "            </tr>\n",
       "            <tr>\n",
       "                                <td id=\"T_086c1b90_73ac_11eb_907b_acde48001122row11_col0\" class=\"data row11 col0\" >Garage Area</td>\n",
       "                        <td id=\"T_086c1b90_73ac_11eb_907b_acde48001122row11_col1\" class=\"data row11 col1\" >42.857209</td>\n",
       "            </tr>\n",
       "            <tr>\n",
       "                                <td id=\"T_086c1b90_73ac_11eb_907b_acde48001122row12_col0\" class=\"data row12 col0\" >Mas Vnr Area</td>\n",
       "                        <td id=\"T_086c1b90_73ac_11eb_907b_acde48001122row12_col1\" class=\"data row12 col1\" >32.492981</td>\n",
       "            </tr>\n",
       "            <tr>\n",
       "                                <td id=\"T_086c1b90_73ac_11eb_907b_acde48001122row13_col0\" class=\"data row13 col0\" >Total Bsmt SF</td>\n",
       "                        <td id=\"T_086c1b90_73ac_11eb_907b_acde48001122row13_col1\" class=\"data row13 col1\" >32.213339</td>\n",
       "            </tr>\n",
       "    </tbody></table>"
      ],
      "text/plain": [
       "<pandas.io.formats.style.Styler at 0x10777c550>"
      ]
     },
     "execution_count": 18,
     "metadata": {},
     "output_type": "execute_result"
    }
   ],
   "source": [
    "coef_ln = (pd.DataFrame({'Features': features, \n",
    "                        'Coefficients' : ln.coef_\n",
    "                        })).sort_values(by = 'Coefficients', ascending = False)\n",
    "\n",
    "#Hide index function from https://stackoverflow.com/questions/21256013/pandas-dataframe-hide-index-functionality\n",
    "coef_ln.style.hide_index()"
   ]
  },
  {
   "cell_type": "markdown",
   "metadata": {},
   "source": [
    "The linear regression model works\n",
    "\n",
    "Overall the simple linear regression model performed significantly better than baseline with a testing RMSE of 30,050. Furthermore, the training and testing R2's were very close to eachother (.868 and .851 respectively) which does not raise concerns regarding generalization of the model to new datasets.\n",
    "\n",
    "The 10 most important features indicated by this model are: \n",
    "- Neighborhood_StoneBr\t44457.227407\n",
    "- Neighborhood_NridgHt\t28379.369655\n",
    "- Neighborhood_NoRidge\t23324.774226\n",
    "- Exter Qual\t14566.075020\n",
    "- Kitchen Qual\t13308.101193\n",
    "- Overall Qual\t10313.786241\n",
    "- MS Zoning_RL\t8852.892174\n",
    "- Central Air_Y\t3019.582074\n",
    "- Heating QC\t2918.766749\n",
    "- Fireplace Qu\t2704.331520\n",
    "\n",
    "So the linear regression model is giving a lot of weight to the location of the house, especially in comparison to the later models. "
   ]
  },
  {
   "cell_type": "markdown",
   "metadata": {},
   "source": [
    "# Model 2: Polynomial Lin Reg Model"
   ]
  },
  {
   "cell_type": "markdown",
   "metadata": {},
   "source": [
    "### Create Polynomial Features"
   ]
  },
  {
   "cell_type": "code",
   "execution_count": 19,
   "metadata": {},
   "outputs": [
    {
     "data": {
      "text/plain": [
       "PolynomialFeatures(include_bias=False)"
      ]
     },
     "execution_count": 19,
     "metadata": {},
     "output_type": "execute_result"
    }
   ],
   "source": [
    "#Instantiate and fit PF to the X_test and Train generated above\n",
    "poly = PolynomialFeatures(include_bias=False)\n",
    "poly.fit(X_train)"
   ]
  },
  {
   "cell_type": "code",
   "execution_count": 20,
   "metadata": {},
   "outputs": [],
   "source": [
    "#Tranform X_train and test\n",
    "poly_X_train = poly.transform(X_train)\n",
    "poly_X_test = poly.transform(X_test)"
   ]
  },
  {
   "cell_type": "code",
   "execution_count": 21,
   "metadata": {},
   "outputs": [
    {
     "data": {
      "text/html": [
       "<div>\n",
       "<style scoped>\n",
       "    .dataframe tbody tr th:only-of-type {\n",
       "        vertical-align: middle;\n",
       "    }\n",
       "\n",
       "    .dataframe tbody tr th {\n",
       "        vertical-align: top;\n",
       "    }\n",
       "\n",
       "    .dataframe thead th {\n",
       "        text-align: right;\n",
       "    }\n",
       "</style>\n",
       "<table border=\"1\" class=\"dataframe\">\n",
       "  <thead>\n",
       "    <tr style=\"text-align: right;\">\n",
       "      <th></th>\n",
       "      <th>Overall Qual</th>\n",
       "      <th>gr_liv_area</th>\n",
       "      <th>Exter Qual</th>\n",
       "      <th>Kitchen Qual</th>\n",
       "      <th>Total Bsmt SF</th>\n",
       "      <th>Garage Area</th>\n",
       "      <th>Fireplace Qu</th>\n",
       "      <th>Mas Vnr Area</th>\n",
       "      <th>Heating QC</th>\n",
       "      <th>Neighborhood_NridgHt</th>\n",
       "      <th>...</th>\n",
       "      <th>Central Air_Y^2</th>\n",
       "      <th>Central Air_Y Neighborhood_NoRidge</th>\n",
       "      <th>Central Air_Y Neighborhood_StoneBr</th>\n",
       "      <th>Central Air_Y MS Zoning_RL</th>\n",
       "      <th>Neighborhood_NoRidge^2</th>\n",
       "      <th>Neighborhood_NoRidge Neighborhood_StoneBr</th>\n",
       "      <th>Neighborhood_NoRidge MS Zoning_RL</th>\n",
       "      <th>Neighborhood_StoneBr^2</th>\n",
       "      <th>Neighborhood_StoneBr MS Zoning_RL</th>\n",
       "      <th>MS Zoning_RL^2</th>\n",
       "    </tr>\n",
       "  </thead>\n",
       "  <tbody>\n",
       "    <tr>\n",
       "      <th>0</th>\n",
       "      <td>6.0</td>\n",
       "      <td>1686.0</td>\n",
       "      <td>3.0</td>\n",
       "      <td>3.0</td>\n",
       "      <td>1686.0</td>\n",
       "      <td>612.0</td>\n",
       "      <td>3.0</td>\n",
       "      <td>157.0</td>\n",
       "      <td>3.0</td>\n",
       "      <td>0.0</td>\n",
       "      <td>...</td>\n",
       "      <td>1.0</td>\n",
       "      <td>0.0</td>\n",
       "      <td>0.0</td>\n",
       "      <td>1.0</td>\n",
       "      <td>0.0</td>\n",
       "      <td>0.0</td>\n",
       "      <td>0.0</td>\n",
       "      <td>0.0</td>\n",
       "      <td>0.0</td>\n",
       "      <td>1.0</td>\n",
       "    </tr>\n",
       "    <tr>\n",
       "      <th>1</th>\n",
       "      <td>5.0</td>\n",
       "      <td>1630.0</td>\n",
       "      <td>3.0</td>\n",
       "      <td>3.0</td>\n",
       "      <td>1073.0</td>\n",
       "      <td>649.0</td>\n",
       "      <td>3.0</td>\n",
       "      <td>0.0</td>\n",
       "      <td>3.0</td>\n",
       "      <td>0.0</td>\n",
       "      <td>...</td>\n",
       "      <td>1.0</td>\n",
       "      <td>0.0</td>\n",
       "      <td>0.0</td>\n",
       "      <td>1.0</td>\n",
       "      <td>0.0</td>\n",
       "      <td>0.0</td>\n",
       "      <td>0.0</td>\n",
       "      <td>0.0</td>\n",
       "      <td>0.0</td>\n",
       "      <td>1.0</td>\n",
       "    </tr>\n",
       "    <tr>\n",
       "      <th>2</th>\n",
       "      <td>7.0</td>\n",
       "      <td>2312.0</td>\n",
       "      <td>4.0</td>\n",
       "      <td>4.0</td>\n",
       "      <td>1177.0</td>\n",
       "      <td>658.0</td>\n",
       "      <td>3.0</td>\n",
       "      <td>210.0</td>\n",
       "      <td>5.0</td>\n",
       "      <td>0.0</td>\n",
       "      <td>...</td>\n",
       "      <td>1.0</td>\n",
       "      <td>0.0</td>\n",
       "      <td>0.0</td>\n",
       "      <td>1.0</td>\n",
       "      <td>0.0</td>\n",
       "      <td>0.0</td>\n",
       "      <td>0.0</td>\n",
       "      <td>0.0</td>\n",
       "      <td>0.0</td>\n",
       "      <td>1.0</td>\n",
       "    </tr>\n",
       "    <tr>\n",
       "      <th>3</th>\n",
       "      <td>8.0</td>\n",
       "      <td>2232.0</td>\n",
       "      <td>4.0</td>\n",
       "      <td>4.0</td>\n",
       "      <td>1173.0</td>\n",
       "      <td>623.0</td>\n",
       "      <td>3.0</td>\n",
       "      <td>372.0</td>\n",
       "      <td>5.0</td>\n",
       "      <td>0.0</td>\n",
       "      <td>...</td>\n",
       "      <td>1.0</td>\n",
       "      <td>1.0</td>\n",
       "      <td>0.0</td>\n",
       "      <td>1.0</td>\n",
       "      <td>1.0</td>\n",
       "      <td>0.0</td>\n",
       "      <td>1.0</td>\n",
       "      <td>0.0</td>\n",
       "      <td>0.0</td>\n",
       "      <td>1.0</td>\n",
       "    </tr>\n",
       "    <tr>\n",
       "      <th>4</th>\n",
       "      <td>5.0</td>\n",
       "      <td>835.0</td>\n",
       "      <td>3.0</td>\n",
       "      <td>3.0</td>\n",
       "      <td>458.0</td>\n",
       "      <td>366.0</td>\n",
       "      <td>0.0</td>\n",
       "      <td>0.0</td>\n",
       "      <td>2.0</td>\n",
       "      <td>0.0</td>\n",
       "      <td>...</td>\n",
       "      <td>0.0</td>\n",
       "      <td>0.0</td>\n",
       "      <td>0.0</td>\n",
       "      <td>0.0</td>\n",
       "      <td>0.0</td>\n",
       "      <td>0.0</td>\n",
       "      <td>0.0</td>\n",
       "      <td>0.0</td>\n",
       "      <td>0.0</td>\n",
       "      <td>1.0</td>\n",
       "    </tr>\n",
       "    <tr>\n",
       "      <th>...</th>\n",
       "      <td>...</td>\n",
       "      <td>...</td>\n",
       "      <td>...</td>\n",
       "      <td>...</td>\n",
       "      <td>...</td>\n",
       "      <td>...</td>\n",
       "      <td>...</td>\n",
       "      <td>...</td>\n",
       "      <td>...</td>\n",
       "      <td>...</td>\n",
       "      <td>...</td>\n",
       "      <td>...</td>\n",
       "      <td>...</td>\n",
       "      <td>...</td>\n",
       "      <td>...</td>\n",
       "      <td>...</td>\n",
       "      <td>...</td>\n",
       "      <td>...</td>\n",
       "      <td>...</td>\n",
       "      <td>...</td>\n",
       "      <td>...</td>\n",
       "    </tr>\n",
       "    <tr>\n",
       "      <th>1514</th>\n",
       "      <td>5.0</td>\n",
       "      <td>616.0</td>\n",
       "      <td>3.0</td>\n",
       "      <td>3.0</td>\n",
       "      <td>616.0</td>\n",
       "      <td>205.0</td>\n",
       "      <td>0.0</td>\n",
       "      <td>0.0</td>\n",
       "      <td>4.0</td>\n",
       "      <td>0.0</td>\n",
       "      <td>...</td>\n",
       "      <td>1.0</td>\n",
       "      <td>0.0</td>\n",
       "      <td>0.0</td>\n",
       "      <td>0.0</td>\n",
       "      <td>0.0</td>\n",
       "      <td>0.0</td>\n",
       "      <td>0.0</td>\n",
       "      <td>0.0</td>\n",
       "      <td>0.0</td>\n",
       "      <td>0.0</td>\n",
       "    </tr>\n",
       "    <tr>\n",
       "      <th>1515</th>\n",
       "      <td>5.0</td>\n",
       "      <td>912.0</td>\n",
       "      <td>3.0</td>\n",
       "      <td>3.0</td>\n",
       "      <td>912.0</td>\n",
       "      <td>288.0</td>\n",
       "      <td>0.0</td>\n",
       "      <td>0.0</td>\n",
       "      <td>3.0</td>\n",
       "      <td>0.0</td>\n",
       "      <td>...</td>\n",
       "      <td>1.0</td>\n",
       "      <td>0.0</td>\n",
       "      <td>0.0</td>\n",
       "      <td>1.0</td>\n",
       "      <td>0.0</td>\n",
       "      <td>0.0</td>\n",
       "      <td>0.0</td>\n",
       "      <td>0.0</td>\n",
       "      <td>0.0</td>\n",
       "      <td>1.0</td>\n",
       "    </tr>\n",
       "    <tr>\n",
       "      <th>1516</th>\n",
       "      <td>5.0</td>\n",
       "      <td>1373.0</td>\n",
       "      <td>3.0</td>\n",
       "      <td>3.0</td>\n",
       "      <td>1319.0</td>\n",
       "      <td>591.0</td>\n",
       "      <td>3.0</td>\n",
       "      <td>0.0</td>\n",
       "      <td>3.0</td>\n",
       "      <td>0.0</td>\n",
       "      <td>...</td>\n",
       "      <td>1.0</td>\n",
       "      <td>0.0</td>\n",
       "      <td>0.0</td>\n",
       "      <td>1.0</td>\n",
       "      <td>0.0</td>\n",
       "      <td>0.0</td>\n",
       "      <td>0.0</td>\n",
       "      <td>0.0</td>\n",
       "      <td>0.0</td>\n",
       "      <td>1.0</td>\n",
       "    </tr>\n",
       "    <tr>\n",
       "      <th>1517</th>\n",
       "      <td>5.0</td>\n",
       "      <td>984.0</td>\n",
       "      <td>3.0</td>\n",
       "      <td>3.0</td>\n",
       "      <td>984.0</td>\n",
       "      <td>310.0</td>\n",
       "      <td>0.0</td>\n",
       "      <td>0.0</td>\n",
       "      <td>3.0</td>\n",
       "      <td>0.0</td>\n",
       "      <td>...</td>\n",
       "      <td>1.0</td>\n",
       "      <td>0.0</td>\n",
       "      <td>0.0</td>\n",
       "      <td>1.0</td>\n",
       "      <td>0.0</td>\n",
       "      <td>0.0</td>\n",
       "      <td>0.0</td>\n",
       "      <td>0.0</td>\n",
       "      <td>0.0</td>\n",
       "      <td>1.0</td>\n",
       "    </tr>\n",
       "    <tr>\n",
       "      <th>1518</th>\n",
       "      <td>10.0</td>\n",
       "      <td>2775.0</td>\n",
       "      <td>5.0</td>\n",
       "      <td>4.0</td>\n",
       "      <td>1237.0</td>\n",
       "      <td>880.0</td>\n",
       "      <td>4.0</td>\n",
       "      <td>0.0</td>\n",
       "      <td>4.0</td>\n",
       "      <td>0.0</td>\n",
       "      <td>...</td>\n",
       "      <td>1.0</td>\n",
       "      <td>0.0</td>\n",
       "      <td>0.0</td>\n",
       "      <td>0.0</td>\n",
       "      <td>0.0</td>\n",
       "      <td>0.0</td>\n",
       "      <td>0.0</td>\n",
       "      <td>0.0</td>\n",
       "      <td>0.0</td>\n",
       "      <td>0.0</td>\n",
       "    </tr>\n",
       "  </tbody>\n",
       "</table>\n",
       "<p>1519 rows × 119 columns</p>\n",
       "</div>"
      ],
      "text/plain": [
       "      Overall Qual  gr_liv_area  Exter Qual  Kitchen Qual  Total Bsmt SF  \\\n",
       "0              6.0       1686.0         3.0           3.0         1686.0   \n",
       "1              5.0       1630.0         3.0           3.0         1073.0   \n",
       "2              7.0       2312.0         4.0           4.0         1177.0   \n",
       "3              8.0       2232.0         4.0           4.0         1173.0   \n",
       "4              5.0        835.0         3.0           3.0          458.0   \n",
       "...            ...          ...         ...           ...            ...   \n",
       "1514           5.0        616.0         3.0           3.0          616.0   \n",
       "1515           5.0        912.0         3.0           3.0          912.0   \n",
       "1516           5.0       1373.0         3.0           3.0         1319.0   \n",
       "1517           5.0        984.0         3.0           3.0          984.0   \n",
       "1518          10.0       2775.0         5.0           4.0         1237.0   \n",
       "\n",
       "      Garage Area  Fireplace Qu  Mas Vnr Area  Heating QC  \\\n",
       "0           612.0           3.0         157.0         3.0   \n",
       "1           649.0           3.0           0.0         3.0   \n",
       "2           658.0           3.0         210.0         5.0   \n",
       "3           623.0           3.0         372.0         5.0   \n",
       "4           366.0           0.0           0.0         2.0   \n",
       "...           ...           ...           ...         ...   \n",
       "1514        205.0           0.0           0.0         4.0   \n",
       "1515        288.0           0.0           0.0         3.0   \n",
       "1516        591.0           3.0           0.0         3.0   \n",
       "1517        310.0           0.0           0.0         3.0   \n",
       "1518        880.0           4.0           0.0         4.0   \n",
       "\n",
       "      Neighborhood_NridgHt  ...  Central Air_Y^2  \\\n",
       "0                      0.0  ...              1.0   \n",
       "1                      0.0  ...              1.0   \n",
       "2                      0.0  ...              1.0   \n",
       "3                      0.0  ...              1.0   \n",
       "4                      0.0  ...              0.0   \n",
       "...                    ...  ...              ...   \n",
       "1514                   0.0  ...              1.0   \n",
       "1515                   0.0  ...              1.0   \n",
       "1516                   0.0  ...              1.0   \n",
       "1517                   0.0  ...              1.0   \n",
       "1518                   0.0  ...              1.0   \n",
       "\n",
       "      Central Air_Y Neighborhood_NoRidge  Central Air_Y Neighborhood_StoneBr  \\\n",
       "0                                    0.0                                 0.0   \n",
       "1                                    0.0                                 0.0   \n",
       "2                                    0.0                                 0.0   \n",
       "3                                    1.0                                 0.0   \n",
       "4                                    0.0                                 0.0   \n",
       "...                                  ...                                 ...   \n",
       "1514                                 0.0                                 0.0   \n",
       "1515                                 0.0                                 0.0   \n",
       "1516                                 0.0                                 0.0   \n",
       "1517                                 0.0                                 0.0   \n",
       "1518                                 0.0                                 0.0   \n",
       "\n",
       "      Central Air_Y MS Zoning_RL  Neighborhood_NoRidge^2  \\\n",
       "0                            1.0                     0.0   \n",
       "1                            1.0                     0.0   \n",
       "2                            1.0                     0.0   \n",
       "3                            1.0                     1.0   \n",
       "4                            0.0                     0.0   \n",
       "...                          ...                     ...   \n",
       "1514                         0.0                     0.0   \n",
       "1515                         1.0                     0.0   \n",
       "1516                         1.0                     0.0   \n",
       "1517                         1.0                     0.0   \n",
       "1518                         0.0                     0.0   \n",
       "\n",
       "      Neighborhood_NoRidge Neighborhood_StoneBr  \\\n",
       "0                                           0.0   \n",
       "1                                           0.0   \n",
       "2                                           0.0   \n",
       "3                                           0.0   \n",
       "4                                           0.0   \n",
       "...                                         ...   \n",
       "1514                                        0.0   \n",
       "1515                                        0.0   \n",
       "1516                                        0.0   \n",
       "1517                                        0.0   \n",
       "1518                                        0.0   \n",
       "\n",
       "      Neighborhood_NoRidge MS Zoning_RL  Neighborhood_StoneBr^2  \\\n",
       "0                                   0.0                     0.0   \n",
       "1                                   0.0                     0.0   \n",
       "2                                   0.0                     0.0   \n",
       "3                                   1.0                     0.0   \n",
       "4                                   0.0                     0.0   \n",
       "...                                 ...                     ...   \n",
       "1514                                0.0                     0.0   \n",
       "1515                                0.0                     0.0   \n",
       "1516                                0.0                     0.0   \n",
       "1517                                0.0                     0.0   \n",
       "1518                                0.0                     0.0   \n",
       "\n",
       "      Neighborhood_StoneBr MS Zoning_RL  MS Zoning_RL^2  \n",
       "0                                   0.0             1.0  \n",
       "1                                   0.0             1.0  \n",
       "2                                   0.0             1.0  \n",
       "3                                   0.0             1.0  \n",
       "4                                   0.0             1.0  \n",
       "...                                 ...             ...  \n",
       "1514                                0.0             0.0  \n",
       "1515                                0.0             1.0  \n",
       "1516                                0.0             1.0  \n",
       "1517                                0.0             1.0  \n",
       "1518                                0.0             0.0  \n",
       "\n",
       "[1519 rows x 119 columns]"
      ]
     },
     "execution_count": 21,
     "metadata": {},
     "output_type": "execute_result"
    }
   ],
   "source": [
    "#Create dataframe\n",
    "pd.DataFrame(poly_X_train, columns = poly.get_feature_names(X.columns))"
   ]
  },
  {
   "cell_type": "markdown",
   "metadata": {},
   "source": [
    "### Poly Lin Reg Model"
   ]
  },
  {
   "cell_type": "code",
   "execution_count": 22,
   "metadata": {},
   "outputs": [],
   "source": [
    "#Instantiate Lin Reg Model\n",
    "p_ln = LinearRegression()\n",
    "p_ln.fit(poly_X_train, y_train)\n",
    "\n",
    "#Make preds\n",
    "pln_preds_train = p_ln.predict(poly_X_train)\n",
    "pln_preds_test = p_ln.predict(poly_X_test)"
   ]
  },
  {
   "cell_type": "markdown",
   "metadata": {},
   "source": [
    "#### Poly Lin Reg R2"
   ]
  },
  {
   "cell_type": "code",
   "execution_count": 23,
   "metadata": {},
   "outputs": [
    {
     "name": "stdout",
     "output_type": "stream",
     "text": [
      "Training R2: 0.9150417391021959\n",
      "Testing R2: 0.8843918346340929\n",
      "Cross Val Score: 0.884797233141884\n"
     ]
    }
   ],
   "source": [
    "print(f'Training R2: {p_ln.score(poly_X_train, y_train)}')\n",
    "print(f'Testing R2: {p_ln.score(poly_X_test, y_test)}')\n",
    "print(f'Cross Val Score: {cross_val_score(p_ln, poly_X_train, y_train, cv=5).mean()}')"
   ]
  },
  {
   "cell_type": "markdown",
   "metadata": {},
   "source": [
    "#### Poly Lin Reg RMSE"
   ]
  },
  {
   "cell_type": "code",
   "execution_count": 24,
   "metadata": {},
   "outputs": [
    {
     "name": "stdout",
     "output_type": "stream",
     "text": [
      "Training MSE: 22827.677745188816\n",
      "Testing MSE: 26506.17804896374\n"
     ]
    }
   ],
   "source": [
    "print(f'Training MSE: {mean_squared_error(y_train, pln_preds_train, squared = False)}')\n",
    "print(f'Testing MSE: {mean_squared_error(y_test, pln_preds_test, squared = False)}')"
   ]
  },
  {
   "cell_type": "code",
   "execution_count": null,
   "metadata": {},
   "outputs": [],
   "source": []
  },
  {
   "cell_type": "markdown",
   "metadata": {},
   "source": [
    "#### Poly Lin Reg for Kaggle"
   ]
  },
  {
   "cell_type": "code",
   "execution_count": 25,
   "metadata": {},
   "outputs": [],
   "source": [
    "#Defining x\n",
    "# poly_X_ctest = poly.transform(ctest[features])\n",
    "\n",
    "#Predicting model on test\n",
    "# p_ln_preds_ctest = p_ln.predict(poly_X_ctest)\n",
    "\n",
    "#Fitting ID and Predicted SalePrice\n",
    "# kgl_p_ln = pd.DataFrame(ctest['Id'])\n",
    "# kgl_p_ln['SalePrice'] = p_ln_preds_ctest\n",
    "\n",
    "#Exporting\n",
    "# kgl_p_ln.to_csv('./datasets/kgl_p_ln.csv', index=False)"
   ]
  },
  {
   "cell_type": "markdown",
   "metadata": {},
   "source": [
    "## Evaluating the Poly Lin Reg Model"
   ]
  },
  {
   "cell_type": "code",
   "execution_count": 26,
   "metadata": {},
   "outputs": [
    {
     "data": {
      "text/html": [
       "<style  type=\"text/css\" >\n",
       "</style><table id=\"T_08887c5e_73ac_11eb_907b_acde48001122\" ><thead>    <tr>        <th class=\"col_heading level0 col0\" >Features</th>        <th class=\"col_heading level0 col1\" >Coefficients</th>    </tr></thead><tbody>\n",
       "                <tr>\n",
       "                                <td id=\"T_08887c5e_73ac_11eb_907b_acde48001122row0_col0\" class=\"data row0 col0\" >MS Zoning_RL^2</td>\n",
       "                        <td id=\"T_08887c5e_73ac_11eb_907b_acde48001122row0_col1\" class=\"data row0 col1\" >25631.732071</td>\n",
       "            </tr>\n",
       "            <tr>\n",
       "                                <td id=\"T_08887c5e_73ac_11eb_907b_acde48001122row1_col0\" class=\"data row1 col0\" >MS Zoning_RL</td>\n",
       "                        <td id=\"T_08887c5e_73ac_11eb_907b_acde48001122row1_col1\" class=\"data row1 col1\" >25631.732071</td>\n",
       "            </tr>\n",
       "            <tr>\n",
       "                                <td id=\"T_08887c5e_73ac_11eb_907b_acde48001122row2_col0\" class=\"data row2 col0\" >Central Air_Y Neighborhood_NoRidge</td>\n",
       "                        <td id=\"T_08887c5e_73ac_11eb_907b_acde48001122row2_col1\" class=\"data row2 col1\" >25385.100135</td>\n",
       "            </tr>\n",
       "            <tr>\n",
       "                                <td id=\"T_08887c5e_73ac_11eb_907b_acde48001122row3_col0\" class=\"data row3 col0\" >Neighborhood_NoRidge MS Zoning_RL</td>\n",
       "                        <td id=\"T_08887c5e_73ac_11eb_907b_acde48001122row3_col1\" class=\"data row3 col1\" >25385.100135</td>\n",
       "            </tr>\n",
       "            <tr>\n",
       "                                <td id=\"T_08887c5e_73ac_11eb_907b_acde48001122row4_col0\" class=\"data row4 col0\" >Neighborhood_NoRidge^2</td>\n",
       "                        <td id=\"T_08887c5e_73ac_11eb_907b_acde48001122row4_col1\" class=\"data row4 col1\" >25385.100135</td>\n",
       "            </tr>\n",
       "            <tr>\n",
       "                                <td id=\"T_08887c5e_73ac_11eb_907b_acde48001122row5_col0\" class=\"data row5 col0\" >Neighborhood_NoRidge</td>\n",
       "                        <td id=\"T_08887c5e_73ac_11eb_907b_acde48001122row5_col1\" class=\"data row5 col1\" >25385.100131</td>\n",
       "            </tr>\n",
       "            <tr>\n",
       "                                <td id=\"T_08887c5e_73ac_11eb_907b_acde48001122row6_col0\" class=\"data row6 col0\" >Heating QC Neighborhood_StoneBr</td>\n",
       "                        <td id=\"T_08887c5e_73ac_11eb_907b_acde48001122row6_col1\" class=\"data row6 col1\" >20887.698175</td>\n",
       "            </tr>\n",
       "            <tr>\n",
       "                                <td id=\"T_08887c5e_73ac_11eb_907b_acde48001122row7_col0\" class=\"data row7 col0\" >Exter Qual Central Air_Y</td>\n",
       "                        <td id=\"T_08887c5e_73ac_11eb_907b_acde48001122row7_col1\" class=\"data row7 col1\" >18713.021526</td>\n",
       "            </tr>\n",
       "            <tr>\n",
       "                                <td id=\"T_08887c5e_73ac_11eb_907b_acde48001122row8_col0\" class=\"data row8 col0\" >Exter Qual Neighborhood_NridgHt</td>\n",
       "                        <td id=\"T_08887c5e_73ac_11eb_907b_acde48001122row8_col1\" class=\"data row8 col1\" >16182.870523</td>\n",
       "            </tr>\n",
       "            <tr>\n",
       "                                <td id=\"T_08887c5e_73ac_11eb_907b_acde48001122row9_col0\" class=\"data row9 col0\" >Kitchen Qual Neighborhood_NoRidge</td>\n",
       "                        <td id=\"T_08887c5e_73ac_11eb_907b_acde48001122row9_col1\" class=\"data row9 col1\" >11293.894770</td>\n",
       "            </tr>\n",
       "            <tr>\n",
       "                                <td id=\"T_08887c5e_73ac_11eb_907b_acde48001122row10_col0\" class=\"data row10 col0\" >Exter Qual</td>\n",
       "                        <td id=\"T_08887c5e_73ac_11eb_907b_acde48001122row10_col1\" class=\"data row10 col1\" >8314.072514</td>\n",
       "            </tr>\n",
       "            <tr>\n",
       "                                <td id=\"T_08887c5e_73ac_11eb_907b_acde48001122row11_col0\" class=\"data row11 col0\" >Fireplace Qu Neighborhood_StoneBr</td>\n",
       "                        <td id=\"T_08887c5e_73ac_11eb_907b_acde48001122row11_col1\" class=\"data row11 col1\" >7952.623913</td>\n",
       "            </tr>\n",
       "            <tr>\n",
       "                                <td id=\"T_08887c5e_73ac_11eb_907b_acde48001122row12_col0\" class=\"data row12 col0\" >Heating QC</td>\n",
       "                        <td id=\"T_08887c5e_73ac_11eb_907b_acde48001122row12_col1\" class=\"data row12 col1\" >4029.499586</td>\n",
       "            </tr>\n",
       "            <tr>\n",
       "                                <td id=\"T_08887c5e_73ac_11eb_907b_acde48001122row13_col0\" class=\"data row13 col0\" >Exter Qual Fireplace Qu</td>\n",
       "                        <td id=\"T_08887c5e_73ac_11eb_907b_acde48001122row13_col1\" class=\"data row13 col1\" >3143.190045</td>\n",
       "            </tr>\n",
       "            <tr>\n",
       "                                <td id=\"T_08887c5e_73ac_11eb_907b_acde48001122row14_col0\" class=\"data row14 col0\" >Overall Qual</td>\n",
       "                        <td id=\"T_08887c5e_73ac_11eb_907b_acde48001122row14_col1\" class=\"data row14 col1\" >2584.312982</td>\n",
       "            </tr>\n",
       "            <tr>\n",
       "                                <td id=\"T_08887c5e_73ac_11eb_907b_acde48001122row15_col0\" class=\"data row15 col0\" >Kitchen Qual^2</td>\n",
       "                        <td id=\"T_08887c5e_73ac_11eb_907b_acde48001122row15_col1\" class=\"data row15 col1\" >1730.313376</td>\n",
       "            </tr>\n",
       "            <tr>\n",
       "                                <td id=\"T_08887c5e_73ac_11eb_907b_acde48001122row16_col0\" class=\"data row16 col0\" >Fireplace Qu Central Air_Y</td>\n",
       "                        <td id=\"T_08887c5e_73ac_11eb_907b_acde48001122row16_col1\" class=\"data row16 col1\" >1658.981927</td>\n",
       "            </tr>\n",
       "            <tr>\n",
       "                                <td id=\"T_08887c5e_73ac_11eb_907b_acde48001122row17_col0\" class=\"data row17 col0\" >Exter Qual^2</td>\n",
       "                        <td id=\"T_08887c5e_73ac_11eb_907b_acde48001122row17_col1\" class=\"data row17 col1\" >1649.507483</td>\n",
       "            </tr>\n",
       "            <tr>\n",
       "                                <td id=\"T_08887c5e_73ac_11eb_907b_acde48001122row18_col0\" class=\"data row18 col0\" >Overall Qual Neighborhood_StoneBr</td>\n",
       "                        <td id=\"T_08887c5e_73ac_11eb_907b_acde48001122row18_col1\" class=\"data row18 col1\" >1607.859069</td>\n",
       "            </tr>\n",
       "            <tr>\n",
       "                                <td id=\"T_08887c5e_73ac_11eb_907b_acde48001122row19_col0\" class=\"data row19 col0\" >Kitchen Qual MS Zoning_RL</td>\n",
       "                        <td id=\"T_08887c5e_73ac_11eb_907b_acde48001122row19_col1\" class=\"data row19 col1\" >1087.971604</td>\n",
       "            </tr>\n",
       "            <tr>\n",
       "                                <td id=\"T_08887c5e_73ac_11eb_907b_acde48001122row20_col0\" class=\"data row20 col0\" >Overall Qual Kitchen Qual</td>\n",
       "                        <td id=\"T_08887c5e_73ac_11eb_907b_acde48001122row20_col1\" class=\"data row20 col1\" >1084.586832</td>\n",
       "            </tr>\n",
       "            <tr>\n",
       "                                <td id=\"T_08887c5e_73ac_11eb_907b_acde48001122row21_col0\" class=\"data row21 col0\" >Overall Qual Exter Qual</td>\n",
       "                        <td id=\"T_08887c5e_73ac_11eb_907b_acde48001122row21_col1\" class=\"data row21 col1\" >1018.400775</td>\n",
       "            </tr>\n",
       "            <tr>\n",
       "                                <td id=\"T_08887c5e_73ac_11eb_907b_acde48001122row22_col0\" class=\"data row22 col0\" >Kitchen Qual Heating QC</td>\n",
       "                        <td id=\"T_08887c5e_73ac_11eb_907b_acde48001122row22_col1\" class=\"data row22 col1\" >1016.279037</td>\n",
       "            </tr>\n",
       "            <tr>\n",
       "                                <td id=\"T_08887c5e_73ac_11eb_907b_acde48001122row23_col0\" class=\"data row23 col0\" >Overall Qual MS Zoning_RL</td>\n",
       "                        <td id=\"T_08887c5e_73ac_11eb_907b_acde48001122row23_col1\" class=\"data row23 col1\" >940.125741</td>\n",
       "            </tr>\n",
       "            <tr>\n",
       "                                <td id=\"T_08887c5e_73ac_11eb_907b_acde48001122row24_col0\" class=\"data row24 col0\" >Heating QC^2</td>\n",
       "                        <td id=\"T_08887c5e_73ac_11eb_907b_acde48001122row24_col1\" class=\"data row24 col1\" >734.525252</td>\n",
       "            </tr>\n",
       "            <tr>\n",
       "                                <td id=\"T_08887c5e_73ac_11eb_907b_acde48001122row25_col0\" class=\"data row25 col0\" >Overall Qual Heating QC</td>\n",
       "                        <td id=\"T_08887c5e_73ac_11eb_907b_acde48001122row25_col1\" class=\"data row25 col1\" >230.910724</td>\n",
       "            </tr>\n",
       "            <tr>\n",
       "                                <td id=\"T_08887c5e_73ac_11eb_907b_acde48001122row26_col0\" class=\"data row26 col0\" >Overall Qual Fireplace Qu</td>\n",
       "                        <td id=\"T_08887c5e_73ac_11eb_907b_acde48001122row26_col1\" class=\"data row26 col1\" >103.670939</td>\n",
       "            </tr>\n",
       "            <tr>\n",
       "                                <td id=\"T_08887c5e_73ac_11eb_907b_acde48001122row27_col0\" class=\"data row27 col0\" >Garage Area Neighborhood_NridgHt</td>\n",
       "                        <td id=\"T_08887c5e_73ac_11eb_907b_acde48001122row27_col1\" class=\"data row27 col1\" >81.430285</td>\n",
       "            </tr>\n",
       "            <tr>\n",
       "                                <td id=\"T_08887c5e_73ac_11eb_907b_acde48001122row28_col0\" class=\"data row28 col0\" >Total Bsmt SF Neighborhood_StoneBr</td>\n",
       "                        <td id=\"T_08887c5e_73ac_11eb_907b_acde48001122row28_col1\" class=\"data row28 col1\" >70.148080</td>\n",
       "            </tr>\n",
       "            <tr>\n",
       "                                <td id=\"T_08887c5e_73ac_11eb_907b_acde48001122row29_col0\" class=\"data row29 col0\" >Mas Vnr Area</td>\n",
       "                        <td id=\"T_08887c5e_73ac_11eb_907b_acde48001122row29_col1\" class=\"data row29 col1\" >64.920915</td>\n",
       "            </tr>\n",
       "            <tr>\n",
       "                                <td id=\"T_08887c5e_73ac_11eb_907b_acde48001122row30_col0\" class=\"data row30 col0\" >Mas Vnr Area Neighborhood_NoRidge</td>\n",
       "                        <td id=\"T_08887c5e_73ac_11eb_907b_acde48001122row30_col1\" class=\"data row30 col1\" >46.835525</td>\n",
       "            </tr>\n",
       "            <tr>\n",
       "                                <td id=\"T_08887c5e_73ac_11eb_907b_acde48001122row31_col0\" class=\"data row31 col0\" >Garage Area Neighborhood_NoRidge</td>\n",
       "                        <td id=\"T_08887c5e_73ac_11eb_907b_acde48001122row31_col1\" class=\"data row31 col1\" >40.606564</td>\n",
       "            </tr>\n",
       "            <tr>\n",
       "                                <td id=\"T_08887c5e_73ac_11eb_907b_acde48001122row32_col0\" class=\"data row32 col0\" >Garage Area Neighborhood_StoneBr</td>\n",
       "                        <td id=\"T_08887c5e_73ac_11eb_907b_acde48001122row32_col1\" class=\"data row32 col1\" >32.414231</td>\n",
       "            </tr>\n",
       "            <tr>\n",
       "                                <td id=\"T_08887c5e_73ac_11eb_907b_acde48001122row33_col0\" class=\"data row33 col0\" >gr_liv_area Neighborhood_StoneBr</td>\n",
       "                        <td id=\"T_08887c5e_73ac_11eb_907b_acde48001122row33_col1\" class=\"data row33 col1\" >27.572592</td>\n",
       "            </tr>\n",
       "            <tr>\n",
       "                                <td id=\"T_08887c5e_73ac_11eb_907b_acde48001122row34_col0\" class=\"data row34 col0\" >Kitchen Qual Garage Area</td>\n",
       "                        <td id=\"T_08887c5e_73ac_11eb_907b_acde48001122row34_col1\" class=\"data row34 col1\" >19.666621</td>\n",
       "            </tr>\n",
       "            <tr>\n",
       "                                <td id=\"T_08887c5e_73ac_11eb_907b_acde48001122row35_col0\" class=\"data row35 col0\" >Total Bsmt SF Neighborhood_NridgHt</td>\n",
       "                        <td id=\"T_08887c5e_73ac_11eb_907b_acde48001122row35_col1\" class=\"data row35 col1\" >19.368677</td>\n",
       "            </tr>\n",
       "            <tr>\n",
       "                                <td id=\"T_08887c5e_73ac_11eb_907b_acde48001122row36_col0\" class=\"data row36 col0\" >gr_liv_area Neighborhood_NoRidge</td>\n",
       "                        <td id=\"T_08887c5e_73ac_11eb_907b_acde48001122row36_col1\" class=\"data row36 col1\" >18.864325</td>\n",
       "            </tr>\n",
       "            <tr>\n",
       "                                <td id=\"T_08887c5e_73ac_11eb_907b_acde48001122row37_col0\" class=\"data row37 col0\" >gr_liv_area Neighborhood_NridgHt</td>\n",
       "                        <td id=\"T_08887c5e_73ac_11eb_907b_acde48001122row37_col1\" class=\"data row37 col1\" >17.486171</td>\n",
       "            </tr>\n",
       "            <tr>\n",
       "                                <td id=\"T_08887c5e_73ac_11eb_907b_acde48001122row38_col0\" class=\"data row38 col0\" >Fireplace Qu MS Zoning_RL</td>\n",
       "                        <td id=\"T_08887c5e_73ac_11eb_907b_acde48001122row38_col1\" class=\"data row38 col1\" >15.641700</td>\n",
       "            </tr>\n",
       "            <tr>\n",
       "                                <td id=\"T_08887c5e_73ac_11eb_907b_acde48001122row39_col0\" class=\"data row39 col0\" >Overall Qual Garage Area</td>\n",
       "                        <td id=\"T_08887c5e_73ac_11eb_907b_acde48001122row39_col1\" class=\"data row39 col1\" >11.333772</td>\n",
       "            </tr>\n",
       "            <tr>\n",
       "                                <td id=\"T_08887c5e_73ac_11eb_907b_acde48001122row40_col0\" class=\"data row40 col0\" >Garage Area Heating QC</td>\n",
       "                        <td id=\"T_08887c5e_73ac_11eb_907b_acde48001122row40_col1\" class=\"data row40 col1\" >9.460575</td>\n",
       "            </tr>\n",
       "            <tr>\n",
       "                                <td id=\"T_08887c5e_73ac_11eb_907b_acde48001122row41_col0\" class=\"data row41 col0\" >gr_liv_area Kitchen Qual</td>\n",
       "                        <td id=\"T_08887c5e_73ac_11eb_907b_acde48001122row41_col1\" class=\"data row41 col1\" >6.068614</td>\n",
       "            </tr>\n",
       "            <tr>\n",
       "                                <td id=\"T_08887c5e_73ac_11eb_907b_acde48001122row42_col0\" class=\"data row42 col0\" >gr_liv_area Central Air_Y</td>\n",
       "                        <td id=\"T_08887c5e_73ac_11eb_907b_acde48001122row42_col1\" class=\"data row42 col1\" >5.510516</td>\n",
       "            </tr>\n",
       "            <tr>\n",
       "                                <td id=\"T_08887c5e_73ac_11eb_907b_acde48001122row43_col0\" class=\"data row43 col0\" >Overall Qual Total Bsmt SF</td>\n",
       "                        <td id=\"T_08887c5e_73ac_11eb_907b_acde48001122row43_col1\" class=\"data row43 col1\" >5.331854</td>\n",
       "            </tr>\n",
       "            <tr>\n",
       "                                <td id=\"T_08887c5e_73ac_11eb_907b_acde48001122row44_col0\" class=\"data row44 col0\" >Kitchen Qual Total Bsmt SF</td>\n",
       "                        <td id=\"T_08887c5e_73ac_11eb_907b_acde48001122row44_col1\" class=\"data row44 col1\" >5.316881</td>\n",
       "            </tr>\n",
       "            <tr>\n",
       "                                <td id=\"T_08887c5e_73ac_11eb_907b_acde48001122row45_col0\" class=\"data row45 col0\" >Overall Qual gr_liv_area</td>\n",
       "                        <td id=\"T_08887c5e_73ac_11eb_907b_acde48001122row45_col1\" class=\"data row45 col1\" >5.315129</td>\n",
       "            </tr>\n",
       "            <tr>\n",
       "                                <td id=\"T_08887c5e_73ac_11eb_907b_acde48001122row46_col0\" class=\"data row46 col0\" >Mas Vnr Area Neighborhood_StoneBr</td>\n",
       "                        <td id=\"T_08887c5e_73ac_11eb_907b_acde48001122row46_col1\" class=\"data row46 col1\" >4.557433</td>\n",
       "            </tr>\n",
       "            <tr>\n",
       "                                <td id=\"T_08887c5e_73ac_11eb_907b_acde48001122row47_col0\" class=\"data row47 col0\" >Exter Qual Total Bsmt SF</td>\n",
       "                        <td id=\"T_08887c5e_73ac_11eb_907b_acde48001122row47_col1\" class=\"data row47 col1\" >4.457084</td>\n",
       "            </tr>\n",
       "            <tr>\n",
       "                                <td id=\"T_08887c5e_73ac_11eb_907b_acde48001122row48_col0\" class=\"data row48 col0\" >Kitchen Qual Mas Vnr Area</td>\n",
       "                        <td id=\"T_08887c5e_73ac_11eb_907b_acde48001122row48_col1\" class=\"data row48 col1\" >3.956698</td>\n",
       "            </tr>\n",
       "            <tr>\n",
       "                                <td id=\"T_08887c5e_73ac_11eb_907b_acde48001122row49_col0\" class=\"data row49 col0\" >gr_liv_area Fireplace Qu</td>\n",
       "                        <td id=\"T_08887c5e_73ac_11eb_907b_acde48001122row49_col1\" class=\"data row49 col1\" >3.818165</td>\n",
       "            </tr>\n",
       "            <tr>\n",
       "                                <td id=\"T_08887c5e_73ac_11eb_907b_acde48001122row50_col0\" class=\"data row50 col0\" >gr_liv_area Heating QC</td>\n",
       "                        <td id=\"T_08887c5e_73ac_11eb_907b_acde48001122row50_col1\" class=\"data row50 col1\" >3.288175</td>\n",
       "            </tr>\n",
       "            <tr>\n",
       "                                <td id=\"T_08887c5e_73ac_11eb_907b_acde48001122row51_col0\" class=\"data row51 col0\" >Total Bsmt SF Neighborhood_NoRidge</td>\n",
       "                        <td id=\"T_08887c5e_73ac_11eb_907b_acde48001122row51_col1\" class=\"data row51 col1\" >3.180370</td>\n",
       "            </tr>\n",
       "            <tr>\n",
       "                                <td id=\"T_08887c5e_73ac_11eb_907b_acde48001122row52_col0\" class=\"data row52 col0\" >Total Bsmt SF Fireplace Qu</td>\n",
       "                        <td id=\"T_08887c5e_73ac_11eb_907b_acde48001122row52_col1\" class=\"data row52 col1\" >2.489124</td>\n",
       "            </tr>\n",
       "            <tr>\n",
       "                                <td id=\"T_08887c5e_73ac_11eb_907b_acde48001122row53_col0\" class=\"data row53 col0\" >gr_liv_area MS Zoning_RL</td>\n",
       "                        <td id=\"T_08887c5e_73ac_11eb_907b_acde48001122row53_col1\" class=\"data row53 col1\" >1.702462</td>\n",
       "            </tr>\n",
       "            <tr>\n",
       "                                <td id=\"T_08887c5e_73ac_11eb_907b_acde48001122row54_col0\" class=\"data row54 col0\" >Total Bsmt SF Central Air_Y</td>\n",
       "                        <td id=\"T_08887c5e_73ac_11eb_907b_acde48001122row54_col1\" class=\"data row54 col1\" >1.169380</td>\n",
       "            </tr>\n",
       "            <tr>\n",
       "                                <td id=\"T_08887c5e_73ac_11eb_907b_acde48001122row55_col0\" class=\"data row55 col0\" >gr_liv_area Mas Vnr Area</td>\n",
       "                        <td id=\"T_08887c5e_73ac_11eb_907b_acde48001122row55_col1\" class=\"data row55 col1\" >0.021661</td>\n",
       "            </tr>\n",
       "            <tr>\n",
       "                                <td id=\"T_08887c5e_73ac_11eb_907b_acde48001122row56_col0\" class=\"data row56 col0\" >Garage Area Mas Vnr Area</td>\n",
       "                        <td id=\"T_08887c5e_73ac_11eb_907b_acde48001122row56_col1\" class=\"data row56 col1\" >0.007181</td>\n",
       "            </tr>\n",
       "            <tr>\n",
       "                                <td id=\"T_08887c5e_73ac_11eb_907b_acde48001122row57_col0\" class=\"data row57 col0\" >Total Bsmt SF^2</td>\n",
       "                        <td id=\"T_08887c5e_73ac_11eb_907b_acde48001122row57_col1\" class=\"data row57 col1\" >0.006264</td>\n",
       "            </tr>\n",
       "            <tr>\n",
       "                                <td id=\"T_08887c5e_73ac_11eb_907b_acde48001122row58_col0\" class=\"data row58 col0\" >gr_liv_area^2</td>\n",
       "                        <td id=\"T_08887c5e_73ac_11eb_907b_acde48001122row58_col1\" class=\"data row58 col1\" >0.000190</td>\n",
       "            </tr>\n",
       "            <tr>\n",
       "                                <td id=\"T_08887c5e_73ac_11eb_907b_acde48001122row59_col0\" class=\"data row59 col0\" >Neighborhood_NridgHt Neighborhood_StoneBr</td>\n",
       "                        <td id=\"T_08887c5e_73ac_11eb_907b_acde48001122row59_col1\" class=\"data row59 col1\" >0.000000</td>\n",
       "            </tr>\n",
       "            <tr>\n",
       "                                <td id=\"T_08887c5e_73ac_11eb_907b_acde48001122row60_col0\" class=\"data row60 col0\" >Neighborhood_NoRidge Neighborhood_StoneBr</td>\n",
       "                        <td id=\"T_08887c5e_73ac_11eb_907b_acde48001122row60_col1\" class=\"data row60 col1\" >0.000000</td>\n",
       "            </tr>\n",
       "            <tr>\n",
       "                                <td id=\"T_08887c5e_73ac_11eb_907b_acde48001122row61_col0\" class=\"data row61 col0\" >Neighborhood_NridgHt Neighborhood_NoRidge</td>\n",
       "                        <td id=\"T_08887c5e_73ac_11eb_907b_acde48001122row61_col1\" class=\"data row61 col1\" >0.000000</td>\n",
       "            </tr>\n",
       "            <tr>\n",
       "                                <td id=\"T_08887c5e_73ac_11eb_907b_acde48001122row62_col0\" class=\"data row62 col0\" >Total Bsmt SF Garage Area</td>\n",
       "                        <td id=\"T_08887c5e_73ac_11eb_907b_acde48001122row62_col1\" class=\"data row62 col1\" >-0.004216</td>\n",
       "            </tr>\n",
       "            <tr>\n",
       "                                <td id=\"T_08887c5e_73ac_11eb_907b_acde48001122row63_col0\" class=\"data row63 col0\" >Fireplace Qu Mas Vnr Area</td>\n",
       "                        <td id=\"T_08887c5e_73ac_11eb_907b_acde48001122row63_col1\" class=\"data row63 col1\" >-0.006245</td>\n",
       "            </tr>\n",
       "            <tr>\n",
       "                                <td id=\"T_08887c5e_73ac_11eb_907b_acde48001122row64_col0\" class=\"data row64 col0\" >gr_liv_area Total Bsmt SF</td>\n",
       "                        <td id=\"T_08887c5e_73ac_11eb_907b_acde48001122row64_col1\" class=\"data row64 col1\" >-0.006485</td>\n",
       "            </tr>\n",
       "            <tr>\n",
       "                                <td id=\"T_08887c5e_73ac_11eb_907b_acde48001122row65_col0\" class=\"data row65 col0\" >Mas Vnr Area^2</td>\n",
       "                        <td id=\"T_08887c5e_73ac_11eb_907b_acde48001122row65_col1\" class=\"data row65 col1\" >-0.008490</td>\n",
       "            </tr>\n",
       "            <tr>\n",
       "                                <td id=\"T_08887c5e_73ac_11eb_907b_acde48001122row66_col0\" class=\"data row66 col0\" >gr_liv_area Garage Area</td>\n",
       "                        <td id=\"T_08887c5e_73ac_11eb_907b_acde48001122row66_col1\" class=\"data row66 col1\" >-0.008493</td>\n",
       "            </tr>\n",
       "            <tr>\n",
       "                                <td id=\"T_08887c5e_73ac_11eb_907b_acde48001122row67_col0\" class=\"data row67 col0\" >Garage Area^2</td>\n",
       "                        <td id=\"T_08887c5e_73ac_11eb_907b_acde48001122row67_col1\" class=\"data row67 col1\" >-0.011720</td>\n",
       "            </tr>\n",
       "            <tr>\n",
       "                                <td id=\"T_08887c5e_73ac_11eb_907b_acde48001122row68_col0\" class=\"data row68 col0\" >Total Bsmt SF Mas Vnr Area</td>\n",
       "                        <td id=\"T_08887c5e_73ac_11eb_907b_acde48001122row68_col1\" class=\"data row68 col1\" >-0.016263</td>\n",
       "            </tr>\n",
       "            <tr>\n",
       "                                <td id=\"T_08887c5e_73ac_11eb_907b_acde48001122row69_col0\" class=\"data row69 col0\" >Total Bsmt SF Heating QC</td>\n",
       "                        <td id=\"T_08887c5e_73ac_11eb_907b_acde48001122row69_col1\" class=\"data row69 col1\" >-1.273094</td>\n",
       "            </tr>\n",
       "            <tr>\n",
       "                                <td id=\"T_08887c5e_73ac_11eb_907b_acde48001122row70_col0\" class=\"data row70 col0\" >Mas Vnr Area Heating QC</td>\n",
       "                        <td id=\"T_08887c5e_73ac_11eb_907b_acde48001122row70_col1\" class=\"data row70 col1\" >-1.475908</td>\n",
       "            </tr>\n",
       "            <tr>\n",
       "                                <td id=\"T_08887c5e_73ac_11eb_907b_acde48001122row71_col0\" class=\"data row71 col0\" >Garage Area Fireplace Qu</td>\n",
       "                        <td id=\"T_08887c5e_73ac_11eb_907b_acde48001122row71_col1\" class=\"data row71 col1\" >-1.948770</td>\n",
       "            </tr>\n",
       "            <tr>\n",
       "                                <td id=\"T_08887c5e_73ac_11eb_907b_acde48001122row72_col0\" class=\"data row72 col0\" >Mas Vnr Area Central Air_Y</td>\n",
       "                        <td id=\"T_08887c5e_73ac_11eb_907b_acde48001122row72_col1\" class=\"data row72 col1\" >-2.381160</td>\n",
       "            </tr>\n",
       "            <tr>\n",
       "                                <td id=\"T_08887c5e_73ac_11eb_907b_acde48001122row73_col0\" class=\"data row73 col0\" >gr_liv_area Exter Qual</td>\n",
       "                        <td id=\"T_08887c5e_73ac_11eb_907b_acde48001122row73_col1\" class=\"data row73 col1\" >-2.809914</td>\n",
       "            </tr>\n",
       "            <tr>\n",
       "                                <td id=\"T_08887c5e_73ac_11eb_907b_acde48001122row74_col0\" class=\"data row74 col0\" >Total Bsmt SF MS Zoning_RL</td>\n",
       "                        <td id=\"T_08887c5e_73ac_11eb_907b_acde48001122row74_col1\" class=\"data row74 col1\" >-3.539605</td>\n",
       "            </tr>\n",
       "            <tr>\n",
       "                                <td id=\"T_08887c5e_73ac_11eb_907b_acde48001122row75_col0\" class=\"data row75 col0\" >Overall Qual Mas Vnr Area</td>\n",
       "                        <td id=\"T_08887c5e_73ac_11eb_907b_acde48001122row75_col1\" class=\"data row75 col1\" >-3.840862</td>\n",
       "            </tr>\n",
       "            <tr>\n",
       "                                <td id=\"T_08887c5e_73ac_11eb_907b_acde48001122row76_col0\" class=\"data row76 col0\" >Garage Area Central Air_Y</td>\n",
       "                        <td id=\"T_08887c5e_73ac_11eb_907b_acde48001122row76_col1\" class=\"data row76 col1\" >-8.575027</td>\n",
       "            </tr>\n",
       "            <tr>\n",
       "                                <td id=\"T_08887c5e_73ac_11eb_907b_acde48001122row77_col0\" class=\"data row77 col0\" >Mas Vnr Area Neighborhood_NridgHt</td>\n",
       "                        <td id=\"T_08887c5e_73ac_11eb_907b_acde48001122row77_col1\" class=\"data row77 col1\" >-10.558505</td>\n",
       "            </tr>\n",
       "            <tr>\n",
       "                                <td id=\"T_08887c5e_73ac_11eb_907b_acde48001122row78_col0\" class=\"data row78 col0\" >Exter Qual Mas Vnr Area</td>\n",
       "                        <td id=\"T_08887c5e_73ac_11eb_907b_acde48001122row78_col1\" class=\"data row78 col1\" >-10.834527</td>\n",
       "            </tr>\n",
       "            <tr>\n",
       "                                <td id=\"T_08887c5e_73ac_11eb_907b_acde48001122row79_col0\" class=\"data row79 col0\" >Garage Area MS Zoning_RL</td>\n",
       "                        <td id=\"T_08887c5e_73ac_11eb_907b_acde48001122row79_col1\" class=\"data row79 col1\" >-15.690055</td>\n",
       "            </tr>\n",
       "            <tr>\n",
       "                                <td id=\"T_08887c5e_73ac_11eb_907b_acde48001122row80_col0\" class=\"data row80 col0\" >Exter Qual Garage Area</td>\n",
       "                        <td id=\"T_08887c5e_73ac_11eb_907b_acde48001122row80_col1\" class=\"data row80 col1\" >-17.760290</td>\n",
       "            </tr>\n",
       "            <tr>\n",
       "                                <td id=\"T_08887c5e_73ac_11eb_907b_acde48001122row81_col0\" class=\"data row81 col0\" >gr_liv_area</td>\n",
       "                        <td id=\"T_08887c5e_73ac_11eb_907b_acde48001122row81_col1\" class=\"data row81 col1\" >-22.054984</td>\n",
       "            </tr>\n",
       "            <tr>\n",
       "                                <td id=\"T_08887c5e_73ac_11eb_907b_acde48001122row82_col0\" class=\"data row82 col0\" >Mas Vnr Area MS Zoning_RL</td>\n",
       "                        <td id=\"T_08887c5e_73ac_11eb_907b_acde48001122row82_col1\" class=\"data row82 col1\" >-26.886786</td>\n",
       "            </tr>\n",
       "            <tr>\n",
       "                                <td id=\"T_08887c5e_73ac_11eb_907b_acde48001122row83_col0\" class=\"data row83 col0\" >Garage Area</td>\n",
       "                        <td id=\"T_08887c5e_73ac_11eb_907b_acde48001122row83_col1\" class=\"data row83 col1\" >-27.878053</td>\n",
       "            </tr>\n",
       "            <tr>\n",
       "                                <td id=\"T_08887c5e_73ac_11eb_907b_acde48001122row84_col0\" class=\"data row84 col0\" >Total Bsmt SF</td>\n",
       "                        <td id=\"T_08887c5e_73ac_11eb_907b_acde48001122row84_col1\" class=\"data row84 col1\" >-33.393357</td>\n",
       "            </tr>\n",
       "            <tr>\n",
       "                                <td id=\"T_08887c5e_73ac_11eb_907b_acde48001122row85_col0\" class=\"data row85 col0\" >Central Air_Y MS Zoning_RL</td>\n",
       "                        <td id=\"T_08887c5e_73ac_11eb_907b_acde48001122row85_col1\" class=\"data row85 col1\" >-124.927777</td>\n",
       "            </tr>\n",
       "            <tr>\n",
       "                                <td id=\"T_08887c5e_73ac_11eb_907b_acde48001122row86_col0\" class=\"data row86 col0\" >Heating QC Central Air_Y</td>\n",
       "                        <td id=\"T_08887c5e_73ac_11eb_907b_acde48001122row86_col1\" class=\"data row86 col1\" >-213.232463</td>\n",
       "            </tr>\n",
       "            <tr>\n",
       "                                <td id=\"T_08887c5e_73ac_11eb_907b_acde48001122row87_col0\" class=\"data row87 col0\" >Fireplace Qu Neighborhood_NridgHt</td>\n",
       "                        <td id=\"T_08887c5e_73ac_11eb_907b_acde48001122row87_col1\" class=\"data row87 col1\" >-458.325994</td>\n",
       "            </tr>\n",
       "            <tr>\n",
       "                                <td id=\"T_08887c5e_73ac_11eb_907b_acde48001122row88_col0\" class=\"data row88 col0\" >Fireplace Qu Heating QC</td>\n",
       "                        <td id=\"T_08887c5e_73ac_11eb_907b_acde48001122row88_col1\" class=\"data row88 col1\" >-892.864939</td>\n",
       "            </tr>\n",
       "            <tr>\n",
       "                                <td id=\"T_08887c5e_73ac_11eb_907b_acde48001122row89_col0\" class=\"data row89 col0\" >Overall Qual^2</td>\n",
       "                        <td id=\"T_08887c5e_73ac_11eb_907b_acde48001122row89_col1\" class=\"data row89 col1\" >-1002.371925</td>\n",
       "            </tr>\n",
       "            <tr>\n",
       "                                <td id=\"T_08887c5e_73ac_11eb_907b_acde48001122row90_col0\" class=\"data row90 col0\" >Fireplace Qu</td>\n",
       "                        <td id=\"T_08887c5e_73ac_11eb_907b_acde48001122row90_col1\" class=\"data row90 col1\" >-1053.369168</td>\n",
       "            </tr>\n",
       "            <tr>\n",
       "                                <td id=\"T_08887c5e_73ac_11eb_907b_acde48001122row91_col0\" class=\"data row91 col0\" >Heating QC Neighborhood_NridgHt</td>\n",
       "                        <td id=\"T_08887c5e_73ac_11eb_907b_acde48001122row91_col1\" class=\"data row91 col1\" >-1411.159118</td>\n",
       "            </tr>\n",
       "            <tr>\n",
       "                                <td id=\"T_08887c5e_73ac_11eb_907b_acde48001122row92_col0\" class=\"data row92 col0\" >Fireplace Qu^2</td>\n",
       "                        <td id=\"T_08887c5e_73ac_11eb_907b_acde48001122row92_col1\" class=\"data row92 col1\" >-1574.543227</td>\n",
       "            </tr>\n",
       "            <tr>\n",
       "                                <td id=\"T_08887c5e_73ac_11eb_907b_acde48001122row93_col0\" class=\"data row93 col0\" >Exter Qual Kitchen Qual</td>\n",
       "                        <td id=\"T_08887c5e_73ac_11eb_907b_acde48001122row93_col1\" class=\"data row93 col1\" >-1763.818244</td>\n",
       "            </tr>\n",
       "            <tr>\n",
       "                                <td id=\"T_08887c5e_73ac_11eb_907b_acde48001122row94_col0\" class=\"data row94 col0\" >Kitchen Qual Fireplace Qu</td>\n",
       "                        <td id=\"T_08887c5e_73ac_11eb_907b_acde48001122row94_col1\" class=\"data row94 col1\" >-1870.622353</td>\n",
       "            </tr>\n",
       "            <tr>\n",
       "                                <td id=\"T_08887c5e_73ac_11eb_907b_acde48001122row95_col0\" class=\"data row95 col0\" >Heating QC MS Zoning_RL</td>\n",
       "                        <td id=\"T_08887c5e_73ac_11eb_907b_acde48001122row95_col1\" class=\"data row95 col1\" >-2548.787633</td>\n",
       "            </tr>\n",
       "            <tr>\n",
       "                                <td id=\"T_08887c5e_73ac_11eb_907b_acde48001122row96_col0\" class=\"data row96 col0\" >Kitchen Qual Central Air_Y</td>\n",
       "                        <td id=\"T_08887c5e_73ac_11eb_907b_acde48001122row96_col1\" class=\"data row96 col1\" >-3085.661178</td>\n",
       "            </tr>\n",
       "            <tr>\n",
       "                                <td id=\"T_08887c5e_73ac_11eb_907b_acde48001122row97_col0\" class=\"data row97 col0\" >Overall Qual Neighborhood_NridgHt</td>\n",
       "                        <td id=\"T_08887c5e_73ac_11eb_907b_acde48001122row97_col1\" class=\"data row97 col1\" >-3397.485136</td>\n",
       "            </tr>\n",
       "            <tr>\n",
       "                                <td id=\"T_08887c5e_73ac_11eb_907b_acde48001122row98_col0\" class=\"data row98 col0\" >Exter Qual Heating QC</td>\n",
       "                        <td id=\"T_08887c5e_73ac_11eb_907b_acde48001122row98_col1\" class=\"data row98 col1\" >-4546.630659</td>\n",
       "            </tr>\n",
       "            <tr>\n",
       "                                <td id=\"T_08887c5e_73ac_11eb_907b_acde48001122row99_col0\" class=\"data row99 col0\" >Central Air_Y^2</td>\n",
       "                        <td id=\"T_08887c5e_73ac_11eb_907b_acde48001122row99_col1\" class=\"data row99 col1\" >-4939.337382</td>\n",
       "            </tr>\n",
       "            <tr>\n",
       "                                <td id=\"T_08887c5e_73ac_11eb_907b_acde48001122row100_col0\" class=\"data row100 col0\" >Central Air_Y</td>\n",
       "                        <td id=\"T_08887c5e_73ac_11eb_907b_acde48001122row100_col1\" class=\"data row100 col1\" >-4939.337389</td>\n",
       "            </tr>\n",
       "            <tr>\n",
       "                                <td id=\"T_08887c5e_73ac_11eb_907b_acde48001122row101_col0\" class=\"data row101 col0\" >Exter Qual Neighborhood_StoneBr</td>\n",
       "                        <td id=\"T_08887c5e_73ac_11eb_907b_acde48001122row101_col1\" class=\"data row101 col1\" >-5047.987986</td>\n",
       "            </tr>\n",
       "            <tr>\n",
       "                                <td id=\"T_08887c5e_73ac_11eb_907b_acde48001122row102_col0\" class=\"data row102 col0\" >Overall Qual Central Air_Y</td>\n",
       "                        <td id=\"T_08887c5e_73ac_11eb_907b_acde48001122row102_col1\" class=\"data row102 col1\" >-5962.017872</td>\n",
       "            </tr>\n",
       "            <tr>\n",
       "                                <td id=\"T_08887c5e_73ac_11eb_907b_acde48001122row103_col0\" class=\"data row103 col0\" >Neighborhood_NridgHt^2</td>\n",
       "                        <td id=\"T_08887c5e_73ac_11eb_907b_acde48001122row103_col1\" class=\"data row103 col1\" >-8208.037783</td>\n",
       "            </tr>\n",
       "            <tr>\n",
       "                                <td id=\"T_08887c5e_73ac_11eb_907b_acde48001122row104_col0\" class=\"data row104 col0\" >Neighborhood_NridgHt MS Zoning_RL</td>\n",
       "                        <td id=\"T_08887c5e_73ac_11eb_907b_acde48001122row104_col1\" class=\"data row104 col1\" >-8208.037783</td>\n",
       "            </tr>\n",
       "            <tr>\n",
       "                                <td id=\"T_08887c5e_73ac_11eb_907b_acde48001122row105_col0\" class=\"data row105 col0\" >Neighborhood_NridgHt Central Air_Y</td>\n",
       "                        <td id=\"T_08887c5e_73ac_11eb_907b_acde48001122row105_col1\" class=\"data row105 col1\" >-8208.037783</td>\n",
       "            </tr>\n",
       "            <tr>\n",
       "                                <td id=\"T_08887c5e_73ac_11eb_907b_acde48001122row106_col0\" class=\"data row106 col0\" >Neighborhood_NridgHt</td>\n",
       "                        <td id=\"T_08887c5e_73ac_11eb_907b_acde48001122row106_col1\" class=\"data row106 col1\" >-8208.037786</td>\n",
       "            </tr>\n",
       "            <tr>\n",
       "                                <td id=\"T_08887c5e_73ac_11eb_907b_acde48001122row107_col0\" class=\"data row107 col0\" >Fireplace Qu Neighborhood_NoRidge</td>\n",
       "                        <td id=\"T_08887c5e_73ac_11eb_907b_acde48001122row107_col1\" class=\"data row107 col1\" >-9141.577180</td>\n",
       "            </tr>\n",
       "            <tr>\n",
       "                                <td id=\"T_08887c5e_73ac_11eb_907b_acde48001122row108_col0\" class=\"data row108 col0\" >Heating QC Neighborhood_NoRidge</td>\n",
       "                        <td id=\"T_08887c5e_73ac_11eb_907b_acde48001122row108_col1\" class=\"data row108 col1\" >-9173.630524</td>\n",
       "            </tr>\n",
       "            <tr>\n",
       "                                <td id=\"T_08887c5e_73ac_11eb_907b_acde48001122row109_col0\" class=\"data row109 col0\" >Exter Qual MS Zoning_RL</td>\n",
       "                        <td id=\"T_08887c5e_73ac_11eb_907b_acde48001122row109_col1\" class=\"data row109 col1\" >-9854.384569</td>\n",
       "            </tr>\n",
       "            <tr>\n",
       "                                <td id=\"T_08887c5e_73ac_11eb_907b_acde48001122row110_col0\" class=\"data row110 col0\" >Overall Qual Neighborhood_NoRidge</td>\n",
       "                        <td id=\"T_08887c5e_73ac_11eb_907b_acde48001122row110_col1\" class=\"data row110 col1\" >-11725.007085</td>\n",
       "            </tr>\n",
       "            <tr>\n",
       "                                <td id=\"T_08887c5e_73ac_11eb_907b_acde48001122row111_col0\" class=\"data row111 col0\" >Exter Qual Neighborhood_NoRidge</td>\n",
       "                        <td id=\"T_08887c5e_73ac_11eb_907b_acde48001122row111_col1\" class=\"data row111 col1\" >-15776.130267</td>\n",
       "            </tr>\n",
       "            <tr>\n",
       "                                <td id=\"T_08887c5e_73ac_11eb_907b_acde48001122row112_col0\" class=\"data row112 col0\" >Kitchen Qual Neighborhood_NridgHt</td>\n",
       "                        <td id=\"T_08887c5e_73ac_11eb_907b_acde48001122row112_col1\" class=\"data row112 col1\" >-22618.948509</td>\n",
       "            </tr>\n",
       "            <tr>\n",
       "                                <td id=\"T_08887c5e_73ac_11eb_907b_acde48001122row113_col0\" class=\"data row113 col0\" >Kitchen Qual</td>\n",
       "                        <td id=\"T_08887c5e_73ac_11eb_907b_acde48001122row113_col1\" class=\"data row113 col1\" >-23628.593793</td>\n",
       "            </tr>\n",
       "            <tr>\n",
       "                                <td id=\"T_08887c5e_73ac_11eb_907b_acde48001122row114_col0\" class=\"data row114 col0\" >Kitchen Qual Neighborhood_StoneBr</td>\n",
       "                        <td id=\"T_08887c5e_73ac_11eb_907b_acde48001122row114_col1\" class=\"data row114 col1\" >-26073.645189</td>\n",
       "            </tr>\n",
       "            <tr>\n",
       "                                <td id=\"T_08887c5e_73ac_11eb_907b_acde48001122row115_col0\" class=\"data row115 col0\" >Neighborhood_StoneBr^2</td>\n",
       "                        <td id=\"T_08887c5e_73ac_11eb_907b_acde48001122row115_col1\" class=\"data row115 col1\" >-35623.530001</td>\n",
       "            </tr>\n",
       "            <tr>\n",
       "                                <td id=\"T_08887c5e_73ac_11eb_907b_acde48001122row116_col0\" class=\"data row116 col0\" >Neighborhood_StoneBr MS Zoning_RL</td>\n",
       "                        <td id=\"T_08887c5e_73ac_11eb_907b_acde48001122row116_col1\" class=\"data row116 col1\" >-35623.530001</td>\n",
       "            </tr>\n",
       "            <tr>\n",
       "                                <td id=\"T_08887c5e_73ac_11eb_907b_acde48001122row117_col0\" class=\"data row117 col0\" >Central Air_Y Neighborhood_StoneBr</td>\n",
       "                        <td id=\"T_08887c5e_73ac_11eb_907b_acde48001122row117_col1\" class=\"data row117 col1\" >-35623.530001</td>\n",
       "            </tr>\n",
       "            <tr>\n",
       "                                <td id=\"T_08887c5e_73ac_11eb_907b_acde48001122row118_col0\" class=\"data row118 col0\" >Neighborhood_StoneBr</td>\n",
       "                        <td id=\"T_08887c5e_73ac_11eb_907b_acde48001122row118_col1\" class=\"data row118 col1\" >-35623.530002</td>\n",
       "            </tr>\n",
       "    </tbody></table>"
      ],
      "text/plain": [
       "<pandas.io.formats.style.Styler at 0x11d800af0>"
      ]
     },
     "execution_count": 26,
     "metadata": {},
     "output_type": "execute_result"
    }
   ],
   "source": [
    "coef_p_ln = (pd.DataFrame({'Features': poly.get_feature_names(X.columns), \n",
    "                           'Coefficients' : p_ln.coef_\n",
    "                          })).sort_values(by = 'Coefficients', ascending = False)\n",
    "\n",
    "coef_p_ln.style.hide_index()"
   ]
  },
  {
   "cell_type": "markdown",
   "metadata": {},
   "source": [
    "Overall the linear regression model with polynomials performed significantly better than baseline with a testing RMSE of 26,506. The training and testing R2's were close enough to eachother (.915 and .884 respectively) which indicates some overfitting of the model which can probably be attributed to the variance caused by introducing numerous polynomial features. \n",
    "\n",
    "The model outperforms the linear regression model handily with an improvement of about 3,500 units on the RMSE value. However it has a slightly larger spread between the training and testing R2s than Model 1 indicating it is potentially more overfit and has less generalizability.\n",
    "\n",
    "The coefficients in the model indicate several areas where some colinearity might be creeping in and gives the opportunity to develop a different feature list."
   ]
  },
  {
   "cell_type": "markdown",
   "metadata": {},
   "source": [
    "# Model 3: Lasso"
   ]
  },
  {
   "cell_type": "markdown",
   "metadata": {},
   "source": [
    "### New Features list and Train Test"
   ]
  },
  {
   "cell_type": "code",
   "execution_count": 27,
   "metadata": {},
   "outputs": [],
   "source": [
    "features_l = ['Overall Qual',\n",
    "            'gr_liv_area',\n",
    "               'total_sqft',\n",
    "            'Exter Qual',\n",
    "            'Kitchen Qual',\n",
    "            'Total Bsmt SF', \n",
    "            'Garage Area', \n",
    "               'Garage Cars',\n",
    "               'Total Baths',\n",
    "               'Bsmt Qual',\n",
    "            'Fireplace Qu',\n",
    "               'TotRms AbvGrd',\n",
    "           'Mas Vnr Area',\n",
    "               'Fireplaces',\n",
    "           'Heating QC',\n",
    "           'Neighborhood_NridgHt',\n",
    "               'BasmtFin Sqft',\n",
    "               'Deck and Porch Sqft',\n",
    "               'lot_area',\n",
    "               'lot_frontage',\n",
    "               'Garage Qual',\n",
    "           'Central Air_Y',\n",
    "               'Garage Cond',\n",
    "           'Neighborhood_NoRidge',\n",
    "               'Roof Style_Hip',\n",
    "               'Garage Yr Blt',\n",
    "           'Neighborhood_StoneBr',\n",
    "           'MS Zoning_RL',\n",
    "               'Bsmt Cond',\n",
    "               'Land Contour_HLS',\n",
    "           'House Style_2Story'\n",
    "             ]"
   ]
  },
  {
   "cell_type": "code",
   "execution_count": 50,
   "metadata": {},
   "outputs": [],
   "source": [
    "X2 = ctrain[features_l]\n",
    "y2 = ctrain['SalePrice']\n",
    "\n",
    "X2_train, X2_test, y2_train, y2_test = train_test_split(X2, y2, random_state = 42)"
   ]
  },
  {
   "cell_type": "markdown",
   "metadata": {},
   "source": [
    "### Setting Up Standard Scaler transformations"
   ]
  },
  {
   "cell_type": "code",
   "execution_count": 29,
   "metadata": {},
   "outputs": [
    {
     "data": {
      "text/plain": [
       "(507, 31)"
      ]
     },
     "execution_count": 29,
     "metadata": {},
     "output_type": "execute_result"
    }
   ],
   "source": [
    "## First we have to fit standard scaler on the X_train\n",
    "ss = StandardScaler()\n",
    "ss.fit(X2_train)\n",
    "\n",
    "##Now we use it to transform train and text X values\n",
    "ss_X_train = ss.transform(X2_train)\n",
    "ss_X_test = ss.transform(X2_test)\n",
    "\n",
    "ss_X_test.shape"
   ]
  },
  {
   "cell_type": "markdown",
   "metadata": {},
   "source": [
    "### Establishing Baseline for Lasso and Ridge Models"
   ]
  },
  {
   "cell_type": "code",
   "execution_count": 30,
   "metadata": {},
   "outputs": [],
   "source": [
    "### Mean of y_test\n",
    "y_base_lasr = y2_test.mean()\n",
    "\n",
    "### predictions bases on that mean\n",
    "y_base_preds_lasr = [y_base_lasr for row in y2]"
   ]
  },
  {
   "cell_type": "code",
   "execution_count": 31,
   "metadata": {},
   "outputs": [
    {
     "name": "stdout",
     "output_type": "stream",
     "text": [
      "Baseline R2: -0.0013317025984138642\n",
      "Baseline Rmse: 78296.82887296818\n"
     ]
    }
   ],
   "source": [
    "print(f'Baseline R2: {r2_score(y2, y_base_preds_lasr)}')\n",
    "print(f'Baseline Rmse: {mean_squared_error(y2, y_base_preds_lasr, squared = False)}')"
   ]
  },
  {
   "cell_type": "markdown",
   "metadata": {},
   "source": [
    "### Finding optimum lasso alpha"
   ]
  },
  {
   "cell_type": "code",
   "execution_count": 32,
   "metadata": {},
   "outputs": [
    {
     "data": {
      "text/plain": [
       "210.49041445120199"
      ]
     },
     "execution_count": 32,
     "metadata": {},
     "output_type": "execute_result"
    }
   ],
   "source": [
    "## Credit to lessons 4.02 for the code, modified to fit needs\n",
    "l_alphas = np.logspace(0, 5, 100)\n",
    "lasso_cv_test = LassoCV(alphas=l_alphas, cv=5)\n",
    "\n",
    "#Fitting ridge test model onto data to find best lasso\n",
    "lasso_cv_test.fit(ss_X_train, y2_train);\n",
    "\n",
    "#Optimum lasso alpha\n",
    "lasso_cv_test.alpha_"
   ]
  },
  {
   "cell_type": "markdown",
   "metadata": {},
   "source": [
    "### Modeling with Lasso and optimum Lasso value"
   ]
  },
  {
   "cell_type": "code",
   "execution_count": 33,
   "metadata": {},
   "outputs": [],
   "source": [
    "#Instantiate Lasso model\n",
    "lasso = Lasso(alpha=lasso_cv_test.alpha_)\n",
    "lasso.fit(ss_X_train, y2_train)\n",
    "\n",
    "## Generating train and test preds\n",
    "lasso_preds_train = lasso.predict(ss_X_train)\n",
    "lasso_preds_test = lasso.predict(ss_X_test)"
   ]
  },
  {
   "cell_type": "markdown",
   "metadata": {},
   "source": [
    "### Lasso R2"
   ]
  },
  {
   "cell_type": "code",
   "execution_count": 34,
   "metadata": {},
   "outputs": [
    {
     "name": "stdout",
     "output_type": "stream",
     "text": [
      "Training R2: 0.8951916356251562\n",
      "Testing R2: 0.8838039798668246\n",
      "Cross Val Score: 0.8894650793174737\n"
     ]
    }
   ],
   "source": [
    "print(f'Training R2: {lasso.score(ss_X_train, y2_train)}')\n",
    "print(f'Testing R2: {lasso.score(ss_X_test, y2_test)}')\n",
    "print(f'Cross Val Score: {cross_val_score(lasso, ss_X_train, y2_train, cv=5).mean()}')"
   ]
  },
  {
   "cell_type": "markdown",
   "metadata": {},
   "source": [
    "### Lasso RMSE"
   ]
  },
  {
   "cell_type": "code",
   "execution_count": 35,
   "metadata": {},
   "outputs": [
    {
     "name": "stdout",
     "output_type": "stream",
     "text": [
      "Training MSE: 25354.607852154724\n",
      "Testing MSE: 26573.483093412233\n"
     ]
    }
   ],
   "source": [
    "print(f'Training MSE: {mean_squared_error(y2_train, lasso_preds_train, squared = False)}')\n",
    "print(f'Testing MSE: {mean_squared_error(y2_test, lasso_preds_test, squared = False)}')"
   ]
  },
  {
   "cell_type": "markdown",
   "metadata": {},
   "source": [
    "### Lasso for Kaggle"
   ]
  },
  {
   "cell_type": "code",
   "execution_count": 36,
   "metadata": {},
   "outputs": [],
   "source": [
    "# #Defining x\n",
    "# X_ctest2 = ctest[features_l]\n",
    "\n",
    "# #Scaling the ctest data\n",
    "# ss_X_ctest2 = ss.transform(X_ctest2)\n",
    "\n",
    "# #Predicting model on test\n",
    "# las_preds_ctest = lasso.predict(ss_X_ctest2)\n",
    "\n",
    "# #Fitting ID and Predicted SalePrice\n",
    "# kgl_las = pd.DataFrame(ctest['Id'])\n",
    "# kgl_las['SalePrice'] = las_preds_ctest\n",
    "\n",
    "# #Exporting\n",
    "# kgl_las.to_csv('./datasets/kgl_las.csv', index=False)"
   ]
  },
  {
   "cell_type": "markdown",
   "metadata": {},
   "source": [
    "## Evaluating the Lasso Model"
   ]
  },
  {
   "cell_type": "code",
   "execution_count": 37,
   "metadata": {},
   "outputs": [
    {
     "data": {
      "text/html": [
       "<style  type=\"text/css\" >\n",
       "</style><table id=\"T_08aca048_73ac_11eb_907b_acde48001122\" ><thead>    <tr>        <th class=\"col_heading level0 col0\" >Features</th>        <th class=\"col_heading level0 col1\" >Coefficients</th>    </tr></thead><tbody>\n",
       "                <tr>\n",
       "                                <td id=\"T_08aca048_73ac_11eb_907b_acde48001122row0_col0\" class=\"data row0 col0\" >gr_liv_area</td>\n",
       "                        <td id=\"T_08aca048_73ac_11eb_907b_acde48001122row0_col1\" class=\"data row0 col1\" >18849.272639</td>\n",
       "            </tr>\n",
       "            <tr>\n",
       "                                <td id=\"T_08aca048_73ac_11eb_907b_acde48001122row1_col0\" class=\"data row1 col0\" >Overall Qual</td>\n",
       "                        <td id=\"T_08aca048_73ac_11eb_907b_acde48001122row1_col1\" class=\"data row1 col1\" >15229.251278</td>\n",
       "            </tr>\n",
       "            <tr>\n",
       "                                <td id=\"T_08aca048_73ac_11eb_907b_acde48001122row2_col0\" class=\"data row2 col0\" >Exter Qual</td>\n",
       "                        <td id=\"T_08aca048_73ac_11eb_907b_acde48001122row2_col1\" class=\"data row2 col1\" >9100.979270</td>\n",
       "            </tr>\n",
       "            <tr>\n",
       "                                <td id=\"T_08aca048_73ac_11eb_907b_acde48001122row3_col0\" class=\"data row3 col0\" >BasmtFin Sqft</td>\n",
       "                        <td id=\"T_08aca048_73ac_11eb_907b_acde48001122row3_col1\" class=\"data row3 col1\" >8551.729808</td>\n",
       "            </tr>\n",
       "            <tr>\n",
       "                                <td id=\"T_08aca048_73ac_11eb_907b_acde48001122row4_col0\" class=\"data row4 col0\" >Kitchen Qual</td>\n",
       "                        <td id=\"T_08aca048_73ac_11eb_907b_acde48001122row4_col1\" class=\"data row4 col1\" >7277.844457</td>\n",
       "            </tr>\n",
       "            <tr>\n",
       "                                <td id=\"T_08aca048_73ac_11eb_907b_acde48001122row5_col0\" class=\"data row5 col0\" >Neighborhood_NridgHt</td>\n",
       "                        <td id=\"T_08aca048_73ac_11eb_907b_acde48001122row5_col1\" class=\"data row5 col1\" >7050.274077</td>\n",
       "            </tr>\n",
       "            <tr>\n",
       "                                <td id=\"T_08aca048_73ac_11eb_907b_acde48001122row6_col0\" class=\"data row6 col0\" >lot_area</td>\n",
       "                        <td id=\"T_08aca048_73ac_11eb_907b_acde48001122row6_col1\" class=\"data row6 col1\" >6792.809039</td>\n",
       "            </tr>\n",
       "            <tr>\n",
       "                                <td id=\"T_08aca048_73ac_11eb_907b_acde48001122row7_col0\" class=\"data row7 col0\" >Total Bsmt SF</td>\n",
       "                        <td id=\"T_08aca048_73ac_11eb_907b_acde48001122row7_col1\" class=\"data row7 col1\" >6682.241935</td>\n",
       "            </tr>\n",
       "            <tr>\n",
       "                                <td id=\"T_08aca048_73ac_11eb_907b_acde48001122row8_col0\" class=\"data row8 col0\" >Garage Area</td>\n",
       "                        <td id=\"T_08aca048_73ac_11eb_907b_acde48001122row8_col1\" class=\"data row8 col1\" >6285.239390</td>\n",
       "            </tr>\n",
       "            <tr>\n",
       "                                <td id=\"T_08aca048_73ac_11eb_907b_acde48001122row9_col0\" class=\"data row9 col0\" >Neighborhood_StoneBr</td>\n",
       "                        <td id=\"T_08aca048_73ac_11eb_907b_acde48001122row9_col1\" class=\"data row9 col1\" >5458.968152</td>\n",
       "            </tr>\n",
       "            <tr>\n",
       "                                <td id=\"T_08aca048_73ac_11eb_907b_acde48001122row10_col0\" class=\"data row10 col0\" >Bsmt Qual</td>\n",
       "                        <td id=\"T_08aca048_73ac_11eb_907b_acde48001122row10_col1\" class=\"data row10 col1\" >5256.262929</td>\n",
       "            </tr>\n",
       "            <tr>\n",
       "                                <td id=\"T_08aca048_73ac_11eb_907b_acde48001122row11_col0\" class=\"data row11 col0\" >Mas Vnr Area</td>\n",
       "                        <td id=\"T_08aca048_73ac_11eb_907b_acde48001122row11_col1\" class=\"data row11 col1\" >4346.327113</td>\n",
       "            </tr>\n",
       "            <tr>\n",
       "                                <td id=\"T_08aca048_73ac_11eb_907b_acde48001122row12_col0\" class=\"data row12 col0\" >Neighborhood_NoRidge</td>\n",
       "                        <td id=\"T_08aca048_73ac_11eb_907b_acde48001122row12_col1\" class=\"data row12 col1\" >3185.787473</td>\n",
       "            </tr>\n",
       "            <tr>\n",
       "                                <td id=\"T_08aca048_73ac_11eb_907b_acde48001122row13_col0\" class=\"data row13 col0\" >Fireplace Qu</td>\n",
       "                        <td id=\"T_08aca048_73ac_11eb_907b_acde48001122row13_col1\" class=\"data row13 col1\" >3040.692743</td>\n",
       "            </tr>\n",
       "            <tr>\n",
       "                                <td id=\"T_08aca048_73ac_11eb_907b_acde48001122row14_col0\" class=\"data row14 col0\" >Land Contour_HLS</td>\n",
       "                        <td id=\"T_08aca048_73ac_11eb_907b_acde48001122row14_col1\" class=\"data row14 col1\" >3029.557485</td>\n",
       "            </tr>\n",
       "            <tr>\n",
       "                                <td id=\"T_08aca048_73ac_11eb_907b_acde48001122row15_col0\" class=\"data row15 col0\" >Deck and Porch Sqft</td>\n",
       "                        <td id=\"T_08aca048_73ac_11eb_907b_acde48001122row15_col1\" class=\"data row15 col1\" >2758.983227</td>\n",
       "            </tr>\n",
       "            <tr>\n",
       "                                <td id=\"T_08aca048_73ac_11eb_907b_acde48001122row16_col0\" class=\"data row16 col0\" >Heating QC</td>\n",
       "                        <td id=\"T_08aca048_73ac_11eb_907b_acde48001122row16_col1\" class=\"data row16 col1\" >2751.746445</td>\n",
       "            </tr>\n",
       "            <tr>\n",
       "                                <td id=\"T_08aca048_73ac_11eb_907b_acde48001122row17_col0\" class=\"data row17 col0\" >lot_frontage</td>\n",
       "                        <td id=\"T_08aca048_73ac_11eb_907b_acde48001122row17_col1\" class=\"data row17 col1\" >2554.307978</td>\n",
       "            </tr>\n",
       "            <tr>\n",
       "                                <td id=\"T_08aca048_73ac_11eb_907b_acde48001122row18_col0\" class=\"data row18 col0\" >Total Baths</td>\n",
       "                        <td id=\"T_08aca048_73ac_11eb_907b_acde48001122row18_col1\" class=\"data row18 col1\" >2120.043481</td>\n",
       "            </tr>\n",
       "            <tr>\n",
       "                                <td id=\"T_08aca048_73ac_11eb_907b_acde48001122row19_col0\" class=\"data row19 col0\" >Roof Style_Hip</td>\n",
       "                        <td id=\"T_08aca048_73ac_11eb_907b_acde48001122row19_col1\" class=\"data row19 col1\" >1830.374462</td>\n",
       "            </tr>\n",
       "            <tr>\n",
       "                                <td id=\"T_08aca048_73ac_11eb_907b_acde48001122row20_col0\" class=\"data row20 col0\" >Central Air_Y</td>\n",
       "                        <td id=\"T_08aca048_73ac_11eb_907b_acde48001122row20_col1\" class=\"data row20 col1\" >531.599886</td>\n",
       "            </tr>\n",
       "            <tr>\n",
       "                                <td id=\"T_08aca048_73ac_11eb_907b_acde48001122row21_col0\" class=\"data row21 col0\" >Garage Cars</td>\n",
       "                        <td id=\"T_08aca048_73ac_11eb_907b_acde48001122row21_col1\" class=\"data row21 col1\" >125.315107</td>\n",
       "            </tr>\n",
       "            <tr>\n",
       "                                <td id=\"T_08aca048_73ac_11eb_907b_acde48001122row22_col0\" class=\"data row22 col0\" >total_sqft</td>\n",
       "                        <td id=\"T_08aca048_73ac_11eb_907b_acde48001122row22_col1\" class=\"data row22 col1\" >0.000000</td>\n",
       "            </tr>\n",
       "            <tr>\n",
       "                                <td id=\"T_08aca048_73ac_11eb_907b_acde48001122row23_col0\" class=\"data row23 col0\" >MS Zoning_RL</td>\n",
       "                        <td id=\"T_08aca048_73ac_11eb_907b_acde48001122row23_col1\" class=\"data row23 col1\" >0.000000</td>\n",
       "            </tr>\n",
       "            <tr>\n",
       "                                <td id=\"T_08aca048_73ac_11eb_907b_acde48001122row24_col0\" class=\"data row24 col0\" >Garage Qual</td>\n",
       "                        <td id=\"T_08aca048_73ac_11eb_907b_acde48001122row24_col1\" class=\"data row24 col1\" >-0.000000</td>\n",
       "            </tr>\n",
       "            <tr>\n",
       "                                <td id=\"T_08aca048_73ac_11eb_907b_acde48001122row25_col0\" class=\"data row25 col0\" >Garage Cond</td>\n",
       "                        <td id=\"T_08aca048_73ac_11eb_907b_acde48001122row25_col1\" class=\"data row25 col1\" >0.000000</td>\n",
       "            </tr>\n",
       "            <tr>\n",
       "                                <td id=\"T_08aca048_73ac_11eb_907b_acde48001122row26_col0\" class=\"data row26 col0\" >Fireplaces</td>\n",
       "                        <td id=\"T_08aca048_73ac_11eb_907b_acde48001122row26_col1\" class=\"data row26 col1\" >0.000000</td>\n",
       "            </tr>\n",
       "            <tr>\n",
       "                                <td id=\"T_08aca048_73ac_11eb_907b_acde48001122row27_col0\" class=\"data row27 col0\" >TotRms AbvGrd</td>\n",
       "                        <td id=\"T_08aca048_73ac_11eb_907b_acde48001122row27_col1\" class=\"data row27 col1\" >0.000000</td>\n",
       "            </tr>\n",
       "            <tr>\n",
       "                                <td id=\"T_08aca048_73ac_11eb_907b_acde48001122row28_col0\" class=\"data row28 col0\" >House Style_2Story</td>\n",
       "                        <td id=\"T_08aca048_73ac_11eb_907b_acde48001122row28_col1\" class=\"data row28 col1\" >-0.021742</td>\n",
       "            </tr>\n",
       "            <tr>\n",
       "                                <td id=\"T_08aca048_73ac_11eb_907b_acde48001122row29_col0\" class=\"data row29 col0\" >Garage Yr Blt</td>\n",
       "                        <td id=\"T_08aca048_73ac_11eb_907b_acde48001122row29_col1\" class=\"data row29 col1\" >-745.666820</td>\n",
       "            </tr>\n",
       "            <tr>\n",
       "                                <td id=\"T_08aca048_73ac_11eb_907b_acde48001122row30_col0\" class=\"data row30 col0\" >Bsmt Cond</td>\n",
       "                        <td id=\"T_08aca048_73ac_11eb_907b_acde48001122row30_col1\" class=\"data row30 col1\" >-2517.045220</td>\n",
       "            </tr>\n",
       "    </tbody></table>"
      ],
      "text/plain": [
       "<pandas.io.formats.style.Styler at 0x11d58b5e0>"
      ]
     },
     "execution_count": 37,
     "metadata": {},
     "output_type": "execute_result"
    }
   ],
   "source": [
    "coef_lasso = (pd.DataFrame({'Features': features_l,\n",
    "                            'Coefficients' : lasso.coef_\n",
    "                           })).sort_values(by = 'Coefficients', ascending = False)\n",
    "coef_lasso.style.hide_index()"
   ]
  },
  {
   "cell_type": "markdown",
   "metadata": {},
   "source": [
    "Overall the lasso model performed significantly better than baseline with a testing RMSE of 26,573. Furthermore, the training and testing R2's were very close to eachother (.895 and .883 respectively) which does not raise concerns regarding generalization of the model to new datasets.\n",
    "\n",
    "The model is roughly equivalent in terms of its performance in RMSE to Model 2 (M2 RMSE: 26506), however it has a slightly smaller spread between the training and testing R2s than Model 2 (M2 R2 spread was 3 percent points) indicating it is potentially less overfit and has more generalizability.\n",
    "\n",
    "The 10 most important features indicated by this model are: \n",
    "- gr_liv_area\t18849.272639\n",
    "- Overall Qual\t15229.251278\n",
    "- Exter Qual\t9100.979270\n",
    "- BasmtFin Sqft\t8551.729808\n",
    "- Kitchen Qual\t7277.844457\n",
    "- Neighborhood_NridgHt\t7050.274077\n",
    "- lot_area\t6792.809039\n",
    "- Total Bsmt SF\t6682.241935\n",
    "- Garage Area\t6285.239390\n",
    "- Neighborhood_StoneBr\t5458.968152"
   ]
  },
  {
   "cell_type": "markdown",
   "metadata": {},
   "source": [
    "# Model 4 Ridge"
   ]
  },
  {
   "cell_type": "markdown",
   "metadata": {},
   "source": [
    "### Finding optimum alpha using RidgeCV"
   ]
  },
  {
   "cell_type": "code",
   "execution_count": 38,
   "metadata": {},
   "outputs": [],
   "source": [
    "## Credit to lessons 4.02 for the code, modified to fit needs\n",
    "r_alphas = np.logspace(0, 5, 100)\n",
    "ridge_cv_test = RidgeCV(alphas=r_alphas, scoring='r2', cv=5)"
   ]
  },
  {
   "cell_type": "code",
   "execution_count": 39,
   "metadata": {},
   "outputs": [],
   "source": [
    "#Fitting ridge test model onto data to find best ridge\n",
    "ridge_cv_test.fit(ss_X_train, y2_train);"
   ]
  },
  {
   "cell_type": "code",
   "execution_count": 40,
   "metadata": {},
   "outputs": [
    {
     "data": {
      "text/plain": [
       "65.79332246575679"
      ]
     },
     "execution_count": 40,
     "metadata": {},
     "output_type": "execute_result"
    }
   ],
   "source": [
    "#Optimum ridge alpha\n",
    "ridge_cv_test.alpha_"
   ]
  },
  {
   "cell_type": "markdown",
   "metadata": {},
   "source": [
    "### Modeling with Ridge given optimum alpha"
   ]
  },
  {
   "cell_type": "code",
   "execution_count": 41,
   "metadata": {},
   "outputs": [],
   "source": [
    "#Instantiate actual ridge with optimum alpha\n",
    "ridge = Ridge(alpha = ridge_cv_test.alpha_)"
   ]
  },
  {
   "cell_type": "code",
   "execution_count": 42,
   "metadata": {},
   "outputs": [
    {
     "data": {
      "text/plain": [
       "Ridge(alpha=65.79332246575679)"
      ]
     },
     "execution_count": 42,
     "metadata": {},
     "output_type": "execute_result"
    }
   ],
   "source": [
    "#Fitting to the data\n",
    "ridge.fit(ss_X_train, y2_train)"
   ]
  },
  {
   "cell_type": "code",
   "execution_count": 43,
   "metadata": {},
   "outputs": [],
   "source": [
    "## Generating train and test preds\n",
    "ridge_preds_train = ridge.predict(ss_X_train)\n",
    "ridge_preds_test = ridge.predict(ss_X_test)"
   ]
  },
  {
   "cell_type": "markdown",
   "metadata": {},
   "source": [
    "### Ridge R2"
   ]
  },
  {
   "cell_type": "code",
   "execution_count": 44,
   "metadata": {},
   "outputs": [
    {
     "name": "stdout",
     "output_type": "stream",
     "text": [
      "Training R2: 0.8951782484656949\n",
      "Testing R2: 0.8832310448216906\n",
      "Cross Val Score: 0.8892770010034143\n"
     ]
    }
   ],
   "source": [
    "print(f'Training R2: {ridge.score(ss_X_train, y2_train)}')\n",
    "\n",
    "print(f'Testing R2: {ridge.score(ss_X_test, y2_test)}')\n",
    "\n",
    "print(f'Cross Val Score: {cross_val_score(ridge, ss_X_train, y2_train, cv=5).mean()}')"
   ]
  },
  {
   "cell_type": "markdown",
   "metadata": {},
   "source": [
    "### Ridge RMSE"
   ]
  },
  {
   "cell_type": "code",
   "execution_count": 45,
   "metadata": {},
   "outputs": [
    {
     "name": "stdout",
     "output_type": "stream",
     "text": [
      "Training MSE: 25356.227070918405\n",
      "Testing MSE: 26638.916308235297\n"
     ]
    }
   ],
   "source": [
    "print(f'Training MSE: {mean_squared_error(y2_train, ridge_preds_train, squared = False)}')\n",
    "\n",
    "print(f'Testing MSE: {mean_squared_error(y2_test, ridge_preds_test, squared = False)}')"
   ]
  },
  {
   "cell_type": "markdown",
   "metadata": {},
   "source": [
    "### Ridge for Kaggle"
   ]
  },
  {
   "cell_type": "code",
   "execution_count": 46,
   "metadata": {},
   "outputs": [],
   "source": [
    "# #Defining x\n",
    "# X_ctest3 = ctest[features]\n",
    "\n",
    "# #Scaling the ctest data\n",
    "# ss_X_ctest3 = ss.transform(X_ctest3)\n",
    "\n",
    "# #Predicting model on test\n",
    "# rid_preds_ctest = ridge.predict(ss_X_ctest3)\n",
    "\n",
    "# #Fitting ID and Predicted SalePrice\n",
    "# kgl_rid = pd.DataFrame(ctest['Id'])\n",
    "# kgl_rid['SalePrice'] = rid_preds_ctest\n",
    "\n",
    "# #Exporting\n",
    "# kgl_rid.to_csv('./datasets/kgl_rid.csv', index=False)"
   ]
  },
  {
   "cell_type": "markdown",
   "metadata": {},
   "source": [
    "## Evaluating the Ridge Model"
   ]
  },
  {
   "cell_type": "code",
   "execution_count": 51,
   "metadata": {},
   "outputs": [
    {
     "data": {
      "text/html": [
       "<style  type=\"text/css\" >\n",
       "</style><table id=\"T_c107b4f6_73ad_11eb_907b_acde48001122\" ><thead>    <tr>        <th class=\"col_heading level0 col0\" >Features</th>        <th class=\"col_heading level0 col1\" >Coefficients</th>    </tr></thead><tbody>\n",
       "                <tr>\n",
       "                                <td id=\"T_c107b4f6_73ad_11eb_907b_acde48001122row0_col0\" class=\"data row0 col0\" >Overall Qual</td>\n",
       "                        <td id=\"T_c107b4f6_73ad_11eb_907b_acde48001122row0_col1\" class=\"data row0 col1\" >13854.222537</td>\n",
       "            </tr>\n",
       "            <tr>\n",
       "                                <td id=\"T_c107b4f6_73ad_11eb_907b_acde48001122row1_col0\" class=\"data row1 col0\" >Exter Qual</td>\n",
       "                        <td id=\"T_c107b4f6_73ad_11eb_907b_acde48001122row1_col1\" class=\"data row1 col1\" >9092.907869</td>\n",
       "            </tr>\n",
       "            <tr>\n",
       "                                <td id=\"T_c107b4f6_73ad_11eb_907b_acde48001122row2_col0\" class=\"data row2 col0\" >gr_liv_area</td>\n",
       "                        <td id=\"T_c107b4f6_73ad_11eb_907b_acde48001122row2_col1\" class=\"data row2 col1\" >9016.467822</td>\n",
       "            </tr>\n",
       "            <tr>\n",
       "                                <td id=\"T_c107b4f6_73ad_11eb_907b_acde48001122row3_col0\" class=\"data row3 col0\" >total_sqft</td>\n",
       "                        <td id=\"T_c107b4f6_73ad_11eb_907b_acde48001122row3_col1\" class=\"data row3 col1\" >9016.467822</td>\n",
       "            </tr>\n",
       "            <tr>\n",
       "                                <td id=\"T_c107b4f6_73ad_11eb_907b_acde48001122row4_col0\" class=\"data row4 col0\" >BasmtFin Sqft</td>\n",
       "                        <td id=\"T_c107b4f6_73ad_11eb_907b_acde48001122row4_col1\" class=\"data row4 col1\" >8014.327998</td>\n",
       "            </tr>\n",
       "            <tr>\n",
       "                                <td id=\"T_c107b4f6_73ad_11eb_907b_acde48001122row5_col0\" class=\"data row5 col0\" >Kitchen Qual</td>\n",
       "                        <td id=\"T_c107b4f6_73ad_11eb_907b_acde48001122row5_col1\" class=\"data row5 col1\" >7449.568864</td>\n",
       "            </tr>\n",
       "            <tr>\n",
       "                                <td id=\"T_c107b4f6_73ad_11eb_907b_acde48001122row6_col0\" class=\"data row6 col0\" >Neighborhood_NridgHt</td>\n",
       "                        <td id=\"T_c107b4f6_73ad_11eb_907b_acde48001122row6_col1\" class=\"data row6 col1\" >7021.861669</td>\n",
       "            </tr>\n",
       "            <tr>\n",
       "                                <td id=\"T_c107b4f6_73ad_11eb_907b_acde48001122row7_col0\" class=\"data row7 col0\" >Total Bsmt SF</td>\n",
       "                        <td id=\"T_c107b4f6_73ad_11eb_907b_acde48001122row7_col1\" class=\"data row7 col1\" >6691.077089</td>\n",
       "            </tr>\n",
       "            <tr>\n",
       "                                <td id=\"T_c107b4f6_73ad_11eb_907b_acde48001122row8_col0\" class=\"data row8 col0\" >lot_area</td>\n",
       "                        <td id=\"T_c107b4f6_73ad_11eb_907b_acde48001122row8_col1\" class=\"data row8 col1\" >6513.181417</td>\n",
       "            </tr>\n",
       "            <tr>\n",
       "                                <td id=\"T_c107b4f6_73ad_11eb_907b_acde48001122row9_col0\" class=\"data row9 col0\" >Garage Area</td>\n",
       "                        <td id=\"T_c107b4f6_73ad_11eb_907b_acde48001122row9_col1\" class=\"data row9 col1\" >5689.112358</td>\n",
       "            </tr>\n",
       "            <tr>\n",
       "                                <td id=\"T_c107b4f6_73ad_11eb_907b_acde48001122row10_col0\" class=\"data row10 col0\" >Bsmt Qual</td>\n",
       "                        <td id=\"T_c107b4f6_73ad_11eb_907b_acde48001122row10_col1\" class=\"data row10 col1\" >5582.350581</td>\n",
       "            </tr>\n",
       "            <tr>\n",
       "                                <td id=\"T_c107b4f6_73ad_11eb_907b_acde48001122row11_col0\" class=\"data row11 col0\" >Neighborhood_StoneBr</td>\n",
       "                        <td id=\"T_c107b4f6_73ad_11eb_907b_acde48001122row11_col1\" class=\"data row11 col1\" >5543.567126</td>\n",
       "            </tr>\n",
       "            <tr>\n",
       "                                <td id=\"T_c107b4f6_73ad_11eb_907b_acde48001122row12_col0\" class=\"data row12 col0\" >Mas Vnr Area</td>\n",
       "                        <td id=\"T_c107b4f6_73ad_11eb_907b_acde48001122row12_col1\" class=\"data row12 col1\" >4539.193317</td>\n",
       "            </tr>\n",
       "            <tr>\n",
       "                                <td id=\"T_c107b4f6_73ad_11eb_907b_acde48001122row13_col0\" class=\"data row13 col0\" >Neighborhood_NoRidge</td>\n",
       "                        <td id=\"T_c107b4f6_73ad_11eb_907b_acde48001122row13_col1\" class=\"data row13 col1\" >3330.249639</td>\n",
       "            </tr>\n",
       "            <tr>\n",
       "                                <td id=\"T_c107b4f6_73ad_11eb_907b_acde48001122row14_col0\" class=\"data row14 col0\" >Fireplace Qu</td>\n",
       "                        <td id=\"T_c107b4f6_73ad_11eb_907b_acde48001122row14_col1\" class=\"data row14 col1\" >3218.345898</td>\n",
       "            </tr>\n",
       "            <tr>\n",
       "                                <td id=\"T_c107b4f6_73ad_11eb_907b_acde48001122row15_col0\" class=\"data row15 col0\" >Land Contour_HLS</td>\n",
       "                        <td id=\"T_c107b4f6_73ad_11eb_907b_acde48001122row15_col1\" class=\"data row15 col1\" >3137.511142</td>\n",
       "            </tr>\n",
       "            <tr>\n",
       "                                <td id=\"T_c107b4f6_73ad_11eb_907b_acde48001122row16_col0\" class=\"data row16 col0\" >Deck and Porch Sqft</td>\n",
       "                        <td id=\"T_c107b4f6_73ad_11eb_907b_acde48001122row16_col1\" class=\"data row16 col1\" >3016.696229</td>\n",
       "            </tr>\n",
       "            <tr>\n",
       "                                <td id=\"T_c107b4f6_73ad_11eb_907b_acde48001122row17_col0\" class=\"data row17 col0\" >Heating QC</td>\n",
       "                        <td id=\"T_c107b4f6_73ad_11eb_907b_acde48001122row17_col1\" class=\"data row17 col1\" >2911.098079</td>\n",
       "            </tr>\n",
       "            <tr>\n",
       "                                <td id=\"T_c107b4f6_73ad_11eb_907b_acde48001122row18_col0\" class=\"data row18 col0\" >lot_frontage</td>\n",
       "                        <td id=\"T_c107b4f6_73ad_11eb_907b_acde48001122row18_col1\" class=\"data row18 col1\" >2755.970902</td>\n",
       "            </tr>\n",
       "            <tr>\n",
       "                                <td id=\"T_c107b4f6_73ad_11eb_907b_acde48001122row19_col0\" class=\"data row19 col0\" >Total Baths</td>\n",
       "                        <td id=\"T_c107b4f6_73ad_11eb_907b_acde48001122row19_col1\" class=\"data row19 col1\" >2753.787886</td>\n",
       "            </tr>\n",
       "            <tr>\n",
       "                                <td id=\"T_c107b4f6_73ad_11eb_907b_acde48001122row20_col0\" class=\"data row20 col0\" >Roof Style_Hip</td>\n",
       "                        <td id=\"T_c107b4f6_73ad_11eb_907b_acde48001122row20_col1\" class=\"data row20 col1\" >1989.076634</td>\n",
       "            </tr>\n",
       "            <tr>\n",
       "                                <td id=\"T_c107b4f6_73ad_11eb_907b_acde48001122row21_col0\" class=\"data row21 col0\" >Garage Cond</td>\n",
       "                        <td id=\"T_c107b4f6_73ad_11eb_907b_acde48001122row21_col1\" class=\"data row21 col1\" >1641.741446</td>\n",
       "            </tr>\n",
       "            <tr>\n",
       "                                <td id=\"T_c107b4f6_73ad_11eb_907b_acde48001122row22_col0\" class=\"data row22 col0\" >Garage Cars</td>\n",
       "                        <td id=\"T_c107b4f6_73ad_11eb_907b_acde48001122row22_col1\" class=\"data row22 col1\" >1282.939119</td>\n",
       "            </tr>\n",
       "            <tr>\n",
       "                                <td id=\"T_c107b4f6_73ad_11eb_907b_acde48001122row23_col0\" class=\"data row23 col0\" >Central Air_Y</td>\n",
       "                        <td id=\"T_c107b4f6_73ad_11eb_907b_acde48001122row23_col1\" class=\"data row23 col1\" >833.169942</td>\n",
       "            </tr>\n",
       "            <tr>\n",
       "                                <td id=\"T_c107b4f6_73ad_11eb_907b_acde48001122row24_col0\" class=\"data row24 col0\" >TotRms AbvGrd</td>\n",
       "                        <td id=\"T_c107b4f6_73ad_11eb_907b_acde48001122row24_col1\" class=\"data row24 col1\" >559.529460</td>\n",
       "            </tr>\n",
       "            <tr>\n",
       "                                <td id=\"T_c107b4f6_73ad_11eb_907b_acde48001122row25_col0\" class=\"data row25 col0\" >Fireplaces</td>\n",
       "                        <td id=\"T_c107b4f6_73ad_11eb_907b_acde48001122row25_col1\" class=\"data row25 col1\" >174.148895</td>\n",
       "            </tr>\n",
       "            <tr>\n",
       "                                <td id=\"T_c107b4f6_73ad_11eb_907b_acde48001122row26_col0\" class=\"data row26 col0\" >MS Zoning_RL</td>\n",
       "                        <td id=\"T_c107b4f6_73ad_11eb_907b_acde48001122row26_col1\" class=\"data row26 col1\" >-84.368511</td>\n",
       "            </tr>\n",
       "            <tr>\n",
       "                                <td id=\"T_c107b4f6_73ad_11eb_907b_acde48001122row27_col0\" class=\"data row27 col0\" >House Style_2Story</td>\n",
       "                        <td id=\"T_c107b4f6_73ad_11eb_907b_acde48001122row27_col1\" class=\"data row27 col1\" >-363.179888</td>\n",
       "            </tr>\n",
       "            <tr>\n",
       "                                <td id=\"T_c107b4f6_73ad_11eb_907b_acde48001122row28_col0\" class=\"data row28 col0\" >Garage Qual</td>\n",
       "                        <td id=\"T_c107b4f6_73ad_11eb_907b_acde48001122row28_col1\" class=\"data row28 col1\" >-612.009908</td>\n",
       "            </tr>\n",
       "            <tr>\n",
       "                                <td id=\"T_c107b4f6_73ad_11eb_907b_acde48001122row29_col0\" class=\"data row29 col0\" >Garage Yr Blt</td>\n",
       "                        <td id=\"T_c107b4f6_73ad_11eb_907b_acde48001122row29_col1\" class=\"data row29 col1\" >-2066.493611</td>\n",
       "            </tr>\n",
       "            <tr>\n",
       "                                <td id=\"T_c107b4f6_73ad_11eb_907b_acde48001122row30_col0\" class=\"data row30 col0\" >Bsmt Cond</td>\n",
       "                        <td id=\"T_c107b4f6_73ad_11eb_907b_acde48001122row30_col1\" class=\"data row30 col1\" >-2693.012654</td>\n",
       "            </tr>\n",
       "    </tbody></table>"
      ],
      "text/plain": [
       "<pandas.io.formats.style.Styler at 0x11d882d00>"
      ]
     },
     "execution_count": 51,
     "metadata": {},
     "output_type": "execute_result"
    }
   ],
   "source": [
    "coef_ridge = (pd.DataFrame({'Features': features_l,\n",
    "                            'Coefficients' : ridge.coef_\n",
    "                           })).sort_values(by = 'Coefficients', ascending = False)\n",
    "\n",
    "coef_ridge.style.hide_index()"
   ]
  },
  {
   "cell_type": "markdown",
   "metadata": {},
   "source": [
    "Overall the ridge model performed significantly better than baseline with a testing RMSE of 26,638. Furthermore, the training and testing R2's were very close to eachother (.895 and .883 respectively) which does not raise concerns regarding generalization of the model to new datasets. \n",
    "\n",
    "It is almost exactly the same as the Lasso model in terms of performance with an almost negligible difference in testing RMSE (64 RMSE lower) and almost identical R2 spread. This means it outperforms the simple linear regression model and slightly underperforms in comparison to the linear regression model with polynomial features but is potentially less overfit. \n",
    "\n",
    "The 10 most important features indicated by this model are: \n",
    "- Overall Qual\t13854.222537\n",
    "- Exter Qual\t9092.907869\n",
    "- gr_liv_area\t9016.467822\n",
    "- total_sqft\t9016.467822\n",
    "- BasmtFin Sqft\t8014.327998\n",
    "- Kitchen Qual\t7449.568864\n",
    "- Neighborhood_NridgHt\t7021.861669\n",
    "- Total Bsmt SF\t6691.077089\n",
    "- lot_area\t6513.181417\n",
    "- Garage Area\t5689.112358\n",
    "\n",
    "\n",
    "\n"
   ]
  },
  {
   "cell_type": "code",
   "execution_count": 63,
   "metadata": {},
   "outputs": [
    {
     "data": {
      "text/plain": [
       "Text(0.5, 0, 'Coefficients')"
      ]
     },
     "execution_count": 63,
     "metadata": {},
     "output_type": "execute_result"
    },
    {
     "data": {
      "image/png": "[encoded data removed]",
      "text/plain": [
       "<Figure size 1080x1080 with 1 Axes>"
      ]
     },
     "metadata": {
      "needs_background": "light"
     },
     "output_type": "display_data"
    }
   ],
   "source": [
    "plt.figure(figsize=(15,15)) \n",
    "\n",
    "plt.barh(coef_ridge.index[:10], coef_ridge['Coefficients'][0:10])\n",
    "plt.title('Top 10 Features', fontsize = 20)\n",
    "plt.xlabel('Coefficients', fontsize = 20)"
   ]
  },
  {
   "cell_type": "code",
   "execution_count": null,
   "metadata": {},
   "outputs": [],
   "source": []
  },
  {
   "cell_type": "markdown",
   "metadata": {},
   "source": [
    "# Evaluation"
   ]
  },
  {
   "cell_type": "code",
   "execution_count": null,
   "metadata": {},
   "outputs": [],
   "source": []
  },
  {
   "cell_type": "code",
   "execution_count": null,
   "metadata": {},
   "outputs": [],
   "source": []
  },
  {
   "cell_type": "code",
   "execution_count": null,
   "metadata": {},
   "outputs": [],
   "source": []
  }
 ],
 "metadata": {
  "kernelspec": {
   "display_name": "Python 3",
   "language": "python",
   "name": "python3"
  },
  "language_info": {
   "codemirror_mode": {
    "name": "ipython",
    "version": 3
   },
   "file_extension": ".py",
   "mimetype": "text/x-python",
   "name": "python",
   "nbconvert_exporter": "python",
   "pygments_lexer": "ipython3",
   "version": "3.8.5"
  }
 },
 "nbformat": 4,
 "nbformat_minor": 4
}
